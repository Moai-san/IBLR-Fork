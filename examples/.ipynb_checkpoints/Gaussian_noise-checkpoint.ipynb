{
 "cells": [
  {
   "cell_type": "markdown",
   "metadata": {
    "colab_type": "text",
    "id": "IoG91SaLwtuq"
   },
   "source": [
    "# ImbalancedLearningRegression (0.0.1): Usage\n",
    "---\n",
    "## Introduction to Gaussian Noise\n",
    "\n",
    "Wenglei Wu, wwu077@uottawa.ca \\\n",
    "Alex Chengen Lyu, clyu039@uottawa.ca \\\n",
    "Adapted from Nick Kunz's SMOGN package: https://github.com/nickkunz/smogn/blob/master/examples/smogn_example_1_beg.ipynb"
   ]
  },
  {
   "cell_type": "markdown",
   "metadata": {
    "colab_type": "text",
    "id": "YOSHCUHR--nw"
   },
   "source": [
    "## Installation\n",
    "\n",
    "First, we install ImbalancedLearningRegression from the Github repository. Alternatively, we could install from the official PyPI distribution. However, the developer version is utilized here for the latest release."
   ]
  },
  {
   "cell_type": "code",
   "execution_count": 1,
   "metadata": {
    "colab": {},
    "colab_type": "code",
    "id": "u9SqBgJ8rduy"
   },
   "outputs": [],
   "source": [
    "%%capture\n",
    "## suppress install output\n",
    "\n",
    "## install pypi release\n",
    "# !pip install ImbalancedLearningRegression\n",
    "\n",
    "## install developer version\n",
    "!pip install git+https://github.com/paobranco/ImbalancedLearningRegression.git"
   ]
  },
  {
   "cell_type": "markdown",
   "metadata": {
    "colab_type": "text",
    "id": "gKhs9eJd_Ab6"
   },
   "source": [
    "## Dependencies\n",
    "Next, we load the required dependencies. Here we import `ImbalancedLearningRegression` to later apply Introduction to Gaussian Noise algorithm for over-sampling regression data. In addition, we use `pandas` for data handling, and `seaborn` to visualize our results."
   ]
  },
  {
   "cell_type": "code",
   "execution_count": 2,
   "metadata": {
    "colab": {},
    "colab_type": "code",
    "id": "fPB6tSLinAFS"
   },
   "outputs": [],
   "source": [
    "## load dependencies\n",
    "import ImbalancedLearningRegression as iblr\n",
    "import pandas\n",
    "import seaborn\n",
    "import matplotlib.pyplot as plt"
   ]
  },
  {
   "cell_type": "markdown",
   "metadata": {
    "colab_type": "text",
    "id": "do8cJ25c_HcF"
   },
   "source": [
    "## Data\n",
    "After, we load our data. In this example, we use the Ames Housing Dataset training split retrieved from Kaggle, originally complied by Dean De Cock. In this case, we name our training set `housing`\n"
   ]
  },
  {
   "cell_type": "code",
   "execution_count": 3,
   "metadata": {
    "colab": {},
    "colab_type": "code",
    "id": "RaFdQ2od-qVO"
   },
   "outputs": [],
   "source": [
    "## load data\n",
    "housing = pandas.read_csv(\n",
    "\n",
    "    ## http://jse.amstat.org/v19n3/decock.pdf\n",
    "    'https://raw.githubusercontent.com/paobranco/ImbalancedLearningRegression/master/data/housing.csv'\n",
    ")"
   ]
  },
  {
   "cell_type": "markdown",
   "metadata": {
    "colab_type": "text",
    "id": "D71nm6Co_KK-"
   },
   "source": [
    "## Introduction to Gaussian Noise\n",
    "Here we cover the focus of this example. We call the `gn` function from this package (`ImbalancedLearningRegression.gn`) and satisfy the minimum required arguments: `data` and `y`.\n",
    "\n",
    "* The `data` argument takes a Pandas DataFrame, which contains the training set split. In this example, we input the previously loaded `housing` training set with follow input: `data = housing`\n",
    "\n",
    "* The `y` argument takes a string, which specifies a continuous reponse variable by header name. In this example, we input `'SalePrice'` in the interest of predicting the sale price of homes in Ames, Iowa with the following input: `y = 'SalePrice'`"
   ]
  },
  {
   "cell_type": "code",
   "execution_count": 4,
   "metadata": {
    "colab": {},
    "colab_type": "code",
    "id": "9qRV9hjPjJVF"
   },
   "outputs": [
    {
     "name": "stderr",
     "output_type": "stream",
     "text": [
      "synth_matrix: 100%|#################################################################| 215/215 [00:01<00:00, 117.69it/s]\n",
      "r_index: 100%|########################################################################| 84/84 [00:00<00:00, 184.21it/s]\n"
     ]
    }
   ],
   "source": [
    "## conduct gn\n",
    "housing_gn = iblr.gn(\n",
    "    \n",
    "    data = housing,  ## pandas dataframe\n",
    "    y = 'SalePrice'  ## string ('header name')\n",
    ")"
   ]
  },
  {
   "cell_type": "markdown",
   "metadata": {
    "colab_type": "text",
    "id": "NBKhYMx4OmKW"
   },
   "source": [
    "**Note:**\n",
    "\n",
    "In this example, the regions of interest within the response variable `y` are automatically determined by the box plot extremes. The extreme values are considered rare \"minorty\" values are over-sampled. The values closer the median are considered \"majority\" values and are under-sampled.\n",
    "\n",
    "If there are no box plot extremes contained in the reponse variable `y`, the argument `rel_method = manual` must be specified, and an input matrix must be placed into the argument `rel_ctrl_pts_rg` indicating the regions of rarity in `y`.\n",
    "\n",
    "More information regarding the matrix input to the `rel_ctrl_pts_rg` argument and manual over-sampling can be found within the function's doc string, as well as in Nick Kunz's package SMOGN: https://github.com/nickkunz/smogn/blob/master/examples/smogn_example_3_adv.ipynb.\n",
    "\n",
    "It is also important to mention that by default, `ImbalancedLearningRegression.gn` will first automatically remove columns containing missing values and then remove rows, as it cannot input data containing missing values.\n",
    "\n",
    "In addition to the features contained in SMOGN, we also allow users to set the percentage of over-sampling and under-sampling for all bump classes by setting manual_perc = True, as well as perc_u and perc_o to a non-negative number. For example, if manual_perc = True, perc_u = 0.9, and perc_o = 2.0, then for all normal bins, we only keep 90% of original dataset, and for all rare bins, we synthesize twice the number of rare samples in that rare bin. We highly encourage users to set the percentages as this could lead to an uncontrolled bias to the dataset.\n",
    "\n",
    "By default, replace = False, which means that in under-sampling, the selection is done without sample repitition."
   ]
  },
  {
   "cell_type": "markdown",
   "metadata": {
    "colab_type": "text",
    "id": "JSYCW_1t-zra"
   },
   "source": [
    "## Results\n",
    "After conducting Introduction to Gaussian Noise algorithm, we briefly examine the results. \n",
    "\n",
    "We can see that the number of observations (rows) in the original training set decreased from 1460 to 1459, while the number of features (columns) also decreased from 81 to 62. \n",
    "\n",
    "Recall that `ImbalancedLearningRegression.gn` automatically removes features containing missing values. In this case, 19 features contained missing values and were therefore omitted.\n",
    "\n",
    "The reduction in observations were a result of both over-sampling and under-sampling. In our case here, the numbers of over-sampling and under-sampling are almost the same. More detailed information in this regard can be found in the original paper cited in the **References** section.\n",
    "\n"
   ]
  },
  {
   "cell_type": "code",
   "execution_count": 5,
   "metadata": {
    "colab": {
     "base_uri": "https://localhost:8080/",
     "height": 34
    },
    "colab_type": "code",
    "id": "spqtcHX1yTfM",
    "outputId": "ed49d0b5-69a8-49a6-8035-0be3c2607868"
   },
   "outputs": [
    {
     "data": {
      "text/plain": [
       "(1460, 81)"
      ]
     },
     "execution_count": 5,
     "metadata": {},
     "output_type": "execute_result"
    }
   ],
   "source": [
    "## dimensions - original data \n",
    "housing.shape"
   ]
  },
  {
   "cell_type": "code",
   "execution_count": 6,
   "metadata": {
    "colab": {
     "base_uri": "https://localhost:8080/",
     "height": 34
    },
    "colab_type": "code",
    "id": "BJnFAM8VpTUZ",
    "outputId": "3358bbda-f48f-49a5-b8a6-9d48627aeb7d"
   },
   "outputs": [
    {
     "data": {
      "text/plain": [
       "(1459, 62)"
      ]
     },
     "execution_count": 6,
     "metadata": {},
     "output_type": "execute_result"
    }
   ],
   "source": [
    "## dimensions - modified data\n",
    "housing_gn.shape"
   ]
  },
  {
   "cell_type": "markdown",
   "metadata": {
    "colab_type": "text",
    "id": "WgJWRm3AN-Vn"
   },
   "source": [
    "Further examining the results, we can see that the distribution of the response variable has changed. By calling the `box_plot_stats` function from this package (`ImbalancedLearningRegression.box_plot_stats`) we quickly verify.\n",
    "\n",
    "Notice that the modified training set's box plot five number summary has changed, where the distribution of the response variable has *skewed right* when compared to the original training set."
   ]
  },
  {
   "cell_type": "code",
   "execution_count": 7,
   "metadata": {
    "colab": {
     "base_uri": "https://localhost:8080/",
     "height": 34
    },
    "colab_type": "code",
    "id": "6IjxkbBwspsN",
    "outputId": "06f72df3-0965-4692-a4a6-7c116fd6c2c3"
   },
   "outputs": [
    {
     "data": {
      "text/plain": [
       "array([ 34900., 129950., 163000., 214000., 340000.])"
      ]
     },
     "execution_count": 7,
     "metadata": {},
     "output_type": "execute_result"
    }
   ],
   "source": [
    "## box plot stats - original data \n",
    "iblr.box_plot_stats(housing['SalePrice'])['stats']"
   ]
  },
  {
   "cell_type": "code",
   "execution_count": 8,
   "metadata": {
    "colab": {
     "base_uri": "https://localhost:8080/",
     "height": 34
    },
    "colab_type": "code",
    "id": "MCZtVBfU-CLM",
    "outputId": "8a69d459-9092-473c-a095-338f8f1ba435"
   },
   "outputs": [
    {
     "data": {
      "text/plain": [
       "array([ 37900. , 151200. , 250580. , 306520.5, 538044. ])"
      ]
     },
     "execution_count": 8,
     "metadata": {},
     "output_type": "execute_result"
    }
   ],
   "source": [
    "## box plot stats - modified data\n",
    "iblr.box_plot_stats(housing_gn['SalePrice'])['stats']"
   ]
  },
  {
   "cell_type": "markdown",
   "metadata": {
    "colab_type": "text",
    "id": "Nex80wz1-VKY"
   },
   "source": [
    "Plotting the results of both the original and modified training sets, the *skewed right* distribution of the response variable in the modified training set becomes more evident.\n",
    "\n",
    "In this example, GN over-sampled observations whose `'SalePrice'` was found to be extremely high according to the box plot (those considered \"minority\") and under-sampled observations that were closer to the median (those considered \"majority\").\n",
    "\n",
    "This is the quickest implementation when the `y` values of interest in predicting may be unclear within a given dataset.\n",
    "\n"
   ]
  },
  {
   "cell_type": "code",
   "execution_count": 9,
   "metadata": {
    "colab": {
     "base_uri": "https://localhost:8080/",
     "height": 282
    },
    "colab_type": "code",
    "id": "mr_My8zHEM_9",
    "outputId": "439e40b9-6360-4169-cd67-50c2f6001dd8"
   },
   "outputs": [
    {
     "data": {
      "text/plain": [
       "<matplotlib.legend.Legend at 0x25b0083b640>"
      ]
     },
     "execution_count": 9,
     "metadata": {},
     "output_type": "execute_result"
    },
    {
     "data": {
      "image/png": "[encoded data removed]",
      "text/plain": [
       "<Figure size 432x288 with 1 Axes>"
      ]
     },
     "metadata": {
      "needs_background": "light"
     },
     "output_type": "display_data"
    }
   ],
   "source": [
    "## plot y distribution \n",
    "seaborn.kdeplot(housing['SalePrice'], label = \"Original\")\n",
    "seaborn.kdeplot(housing_gn['SalePrice'], label = \"Modified\")\n",
    "plt.legend(labels=[\"Original\",\"Modified\"])"
   ]
  },
  {
   "cell_type": "markdown",
   "metadata": {
    "colab_type": "text",
    "id": "XA5_E-5oQF18"
   },
   "source": [
    "## More datasets\n",
    "To verify the reliability of the implementation, we test it with more datasets.\n",
    "\n",
    "We use the College dataset retrieved from Kaggle, uploaded by Fares Sayah. In this case, we name our training set `college`. We run the same procedures as previously shown."
   ]
  },
  {
   "cell_type": "code",
   "execution_count": 10,
   "metadata": {},
   "outputs": [
    {
     "name": "stderr",
     "output_type": "stream",
     "text": [
      "synth_matrix: 100%|####################################################################| 23/23 [00:00<00:00, 46.27it/s]\n",
      "r_index: 100%|##########################################################################| 5/5 [00:00<00:00, 709.79it/s]\n",
      "synth_matrix: 100%|###################################################################| 81/81 [00:00<00:00, 235.80it/s]\n",
      "r_index: 100%|########################################################################| 16/16 [00:00<00:00, 727.29it/s]\n"
     ]
    }
   ],
   "source": [
    "college = pandas.read_csv(\n",
    "\n",
    "    'https://raw.githubusercontent.com/paobranco/ImbalancedLearningRegression/master/data/College.csv'\n",
    ")\n",
    "\n",
    "## conduct gn\n",
    "college_gn = iblr.gn(\n",
    "    \n",
    "    data = college,  ## pandas dataframe\n",
    "    y = 'Grad.Rate', ## string ('header name')\n",
    "    rel_thres = 0.75, ## relevance threshold considered rare\n",
    "    under_samp = False\n",
    ")"
   ]
  },
  {
   "cell_type": "code",
   "execution_count": 11,
   "metadata": {},
   "outputs": [
    {
     "data": {
      "text/plain": [
       "(777, 19)"
      ]
     },
     "execution_count": 11,
     "metadata": {},
     "output_type": "execute_result"
    }
   ],
   "source": [
    "## dimensions - original data \n",
    "college.shape"
   ]
  },
  {
   "cell_type": "code",
   "execution_count": 12,
   "metadata": {},
   "outputs": [
    {
     "data": {
      "text/plain": [
       "(1190, 19)"
      ]
     },
     "execution_count": 12,
     "metadata": {},
     "output_type": "execute_result"
    }
   ],
   "source": [
    "## dimensions - modified data\n",
    "college_gn.shape"
   ]
  },
  {
   "cell_type": "code",
   "execution_count": 13,
   "metadata": {},
   "outputs": [
    {
     "data": {
      "text/plain": [
       "array([ 18.,  53.,  65.,  78., 100.])"
      ]
     },
     "execution_count": 13,
     "metadata": {},
     "output_type": "execute_result"
    }
   ],
   "source": [
    "## box plot stats - original data \n",
    "iblr.box_plot_stats(college['Grad.Rate'])['stats']"
   ]
  },
  {
   "cell_type": "code",
   "execution_count": 14,
   "metadata": {},
   "outputs": [
    {
     "data": {
      "text/plain": [
       "array([  9.,  42.,  64.,  83., 118.])"
      ]
     },
     "execution_count": 14,
     "metadata": {},
     "output_type": "execute_result"
    }
   ],
   "source": [
    "## box plot stats - modified data\n",
    "iblr.box_plot_stats(college_gn['Grad.Rate'])['stats']"
   ]
  },
  {
   "cell_type": "code",
   "execution_count": 15,
   "metadata": {},
   "outputs": [
    {
     "data": {
      "text/plain": [
       "<matplotlib.legend.Legend at 0x25b00e12170>"
      ]
     },
     "execution_count": 15,
     "metadata": {},
     "output_type": "execute_result"
    },
    {
     "data": {
      "image/png": "[encoded data removed]",
      "text/plain": [
       "<Figure size 432x288 with 1 Axes>"
      ]
     },
     "metadata": {
      "needs_background": "light"
     },
     "output_type": "display_data"
    }
   ],
   "source": [
    "## plot y distribution \n",
    "seaborn.kdeplot(college['Grad.Rate'], label = \"Original\")\n",
    "seaborn.kdeplot(college_gn['Grad.Rate'], label = \"Modified\")\n",
    "plt.legend(labels=[\"Original\",\"Modified\"])"
   ]
  },
  {
   "cell_type": "markdown",
   "metadata": {
    "colab_type": "text",
    "id": "JSYCW_1t-zra"
   },
   "source": [
    "## Results 2\n",
    "We can see that the number of observations (rows) in the original training set increased from 777 to 1190, while the number of features (columns) didn't change. \n",
    "\n",
    "The increase in observations were a result of over-sampling without under-sampling.\n",
    "\n",
    "Further examining the results, we can see that the distribution of the response variable has changed. By calling the `box_plot_stats` function from this package (`ImbalancedLearningRegression.box_plot_stats`) we quickly verify.\n",
    "\n",
    "Notice that the modified training set's box plot five number summary has changed, where the distribution of the response variable has *skewed left* for small values and *skewed right* for large values when compared to the original training set.\n",
    "\n",
    "Plotting the results of both the original and modified training sets, the *skewed left* and *skewed right* distribution of the response variable in the modified training set becomes more evident.\n",
    "\n",
    "In this example, GN over-sampled observations whose `'Grad.Rate'` was found to be extremely low and high according to the box plot (those considered \"minority\") and under-sampled observations that were closer to the median (those considered \"majority\").\n",
    "\n",
    "This is the quickest implementation when the `y` values of interest in predicting may be unclear within a given dataset.\n",
    "\n",
    "Note that some values generated are invalid for the `'Grad.Rate'` attribute. Users are required to detect and manipulate the potential likelihood of generation of noise values."
   ]
  },
  {
   "cell_type": "markdown",
   "metadata": {
    "colab_type": "text",
    "id": "XA5_E-5oQF18"
   },
   "source": [
    "## Conclusion\n",
    "In the examples, we covered the fundamentals of GN in ImbalancedLearningRegression. We utilized the Ames Housing Dataset and College dataset to conduct Introduction to Gaussian Noise algorithm with the minimum required arguments. \n",
    "\n",
    "GN over-sampled \"minority\" values and under-sampled \"majority\" values in a continuous response variable. The results were briefly examined with the box plot's five number summary and plotted for visual confirmation.\n",
    "\n",
    "<!-- More examples, where additional features of SMOGN are explored can be found within the packages example directory. Developer updates are available in the package's Github repository at https://github.com/nickkunz/smogn. Official releases are available in the Python Package Index and can be found at https://pypi.org/project/smogn. -->\n",
    "\n"
   ]
  },
  {
   "cell_type": "markdown",
   "metadata": {
    "colab_type": "text",
    "id": "rAQ5iGDJa2LM"
   },
   "source": [
    "## References\n",
    "\n",
    "Branco, P., Torgo, L., Ribeiro, R. (2017). SMOGN: A Pre-Processing Approach for Imbalanced Regression. Proceedings of Machine Learning Research, 74:36-50. http://proceedings.mlr.press/v74/branco17a/branco17a.pdf.\n",
    "\n",
    "Branco, P., Torgo, L., & Ribeiro, R. P. (2019). Pre-processing approaches for imbalanced distributions in regression. Neurocomputing, 343, 76-99. https://www.sciencedirect.com/science/article/abs/pii/S0925231219301638.\n",
    "\n",
    "De Cock, D. (2011). Ames, Iowa: Alternative to the Boston Housing Data as an End of Semester Regression Project. Journal of Statistics Education 19(3). https://doi.org/10.1080/10691898.2011.11889627.\n",
    "\n",
    "Kunz, N. (2019). SMOGN: Synthetic Minority Over-Sampling for Regression with Gaussian Noise (Version 0.1.0). Python Package Index.\n",
    "https://pypi.org/project/smogn. \n",
    "\n",
    "Sayah, F. (2020). College data. Kaggle. https://www.kaggle.com/datasets/faressayah/college-data"
   ]
  }
 ],
 "metadata": {
  "colab": {
   "collapsed_sections": [],
   "name": "smogn-example-1-beg.ipynb",
   "provenance": []
  },
  "kernelspec": {
   "display_name": "Python 3 (ipykernel)",
   "language": "python",
   "name": "python3"
  },
  "language_info": {
   "codemirror_mode": {
    "name": "ipython",
    "version": 3
   },
   "file_extension": ".py",
   "mimetype": "text/x-python",
   "name": "python",
   "nbconvert_exporter": "python",
   "pygments_lexer": "ipython3",
   "version": "3.10.2"
  }
 },
 "nbformat": 4,
 "nbformat_minor": 1
}
