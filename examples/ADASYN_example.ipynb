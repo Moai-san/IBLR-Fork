{
  "cells": [
    {
      "cell_type": "markdown",
      "metadata": {
        "id": "IoG91SaLwtuq"
      },
      "source": [
        "# ImbalancedLearningRegression (0.0.0): Usage\n",
        "---\n",
        "## ADASYN\n",
        "Gloria(Xinzi) Hu, 300011200, xhu005@uottawa.ca \\ Lingyi Kong, 300062668, lkong073@uottawa.ca \\ Adapted from \n",
        "Nick Kunz's SMOGN package: https://github.com/nickkunz/smogn/blob/master/examples/smogn_example_1_beg.ipynb\n"
      ]
    },
    {
      "cell_type": "markdown",
      "metadata": {
        "id": "YOSHCUHR--nw"
      },
      "source": [
        "## Installation\n",
        "\n",
        "First, we install ADASYN from the Github repository. Alternatively, we could install from the official PyPI distribution. However, the developer version is utilized here for the latest release."
      ]
    },
    {
      "cell_type": "code",
      "execution_count": null,
      "metadata": {
        "id": "u9SqBgJ8rduy",
        "outputId": "114503e5-70d5-4ca6-94be-44a5f5eedd7f",
        "colab": {
          "base_uri": "https://localhost:8080/"
        }
      },
      "outputs": [
        {
          "output_type": "stream",
          "name": "stdout",
          "text": [
            "Collecting git+https://github.com/paobranco/ImbalancedLearningRegression.git\n",
            "  Cloning https://github.com/paobranco/ImbalancedLearningRegression.git to /tmp/pip-req-build-tue6nb0_\n",
            "  Running command git clone -q https://github.com/paobranco/ImbalancedLearningRegression.git /tmp/pip-req-build-tue6nb0_\n",
            "Requirement already satisfied: numpy in /usr/local/lib/python3.7/dist-packages (from ImbalancedLearningRegression==0.0.0) (1.21.5)\n",
            "Requirement already satisfied: pandas in /usr/local/lib/python3.7/dist-packages (from ImbalancedLearningRegression==0.0.0) (1.3.5)\n",
            "Requirement already satisfied: tqdm in /usr/local/lib/python3.7/dist-packages (from ImbalancedLearningRegression==0.0.0) (4.63.0)\n",
            "Requirement already satisfied: sklearn in /usr/local/lib/python3.7/dist-packages (from ImbalancedLearningRegression==0.0.0) (0.0)\n",
            "Requirement already satisfied: pytz>=2017.3 in /usr/local/lib/python3.7/dist-packages (from pandas->ImbalancedLearningRegression==0.0.0) (2018.9)\n",
            "Requirement already satisfied: python-dateutil>=2.7.3 in /usr/local/lib/python3.7/dist-packages (from pandas->ImbalancedLearningRegression==0.0.0) (2.8.2)\n",
            "Requirement already satisfied: six>=1.5 in /usr/local/lib/python3.7/dist-packages (from python-dateutil>=2.7.3->pandas->ImbalancedLearningRegression==0.0.0) (1.15.0)\n",
            "Requirement already satisfied: scikit-learn in /usr/local/lib/python3.7/dist-packages (from sklearn->ImbalancedLearningRegression==0.0.0) (1.0.2)\n",
            "Requirement already satisfied: joblib>=0.11 in /usr/local/lib/python3.7/dist-packages (from scikit-learn->sklearn->ImbalancedLearningRegression==0.0.0) (1.1.0)\n",
            "Requirement already satisfied: scipy>=1.1.0 in /usr/local/lib/python3.7/dist-packages (from scikit-learn->sklearn->ImbalancedLearningRegression==0.0.0) (1.4.1)\n",
            "Requirement already satisfied: threadpoolctl>=2.0.0 in /usr/local/lib/python3.7/dist-packages (from scikit-learn->sklearn->ImbalancedLearningRegression==0.0.0) (3.1.0)\n"
          ]
        }
      ],
      "source": [
        "## suppress install output\n",
        "##%%capture\n",
        "\n",
        "## install pypi release\n",
        "#!pip install smote\n",
        "\n",
        "## install developer version\n",
        "!pip install git+https://github.com/paobranco/ImbalancedLearningRegression.git"
      ]
    },
    {
      "cell_type": "markdown",
      "metadata": {
        "id": "gKhs9eJd_Ab6"
      },
      "source": [
        "## Dependencies\n",
        "Next, we load the required dependencies. Here we import `smogn` to later apply Synthetic Minority Over-Sampling Technique for Regression with Gaussian Noise. In addition, we use `pandas` for data handling, and `seaborn` to visualize our results."
      ]
    },
    {
      "cell_type": "code",
      "execution_count": null,
      "metadata": {
        "id": "fPB6tSLinAFS"
      },
      "outputs": [],
      "source": [
        "## load dependencies\n",
        "## load libraries\n",
        "import pandas as pd\n",
        "import seaborn\n",
        "import matplotlib.pyplot as plt\n",
        "import ImbalancedLearningRegression as iblr"
      ]
    },
    {
      "cell_type": "markdown",
      "metadata": {
        "id": "do8cJ25c_HcF"
      },
      "source": [
        "## Data\n",
        "Then we load our data. In this example, we use the College Data set, which can be found on the website for the main course textbook(\"An Introduction to Statistical Learning with Applications in R\") James et al. http://www-bcf.usc.edu/~gareth/ISL/data.html. It contains a number of variables for 777 different universities and colleges in the US. In this case, we name our training set `college`.\n"
      ]
    },
    {
      "cell_type": "code",
      "execution_count": null,
      "metadata": {
        "id": "RaFdQ2od-qVO"
      },
      "outputs": [],
      "source": [
        "college = pd.read_csv(\n",
        "     ## https://github.com/nguyen-toan/ISLR\n",
        "    \"https://raw.githubusercontent.com/paobranco/ImbalancedLearningRegression/master/data/College.csv\"\n",
        ")\n"
      ]
    },
    {
      "cell_type": "markdown",
      "metadata": {
        "id": "D71nm6Co_KK-"
      },
      "source": [
        "## Introduction to ADASYN\n",
        "Here we cover the focus of this example. We call the `adasyn` function from this package (`adasyn.adasyn`) and satisfy the minimum required arguments: `data` and `y`.\n",
        "\n",
        "* The `data` argument takes a Pandas DataFrame, which contains the training set split. In this example, we input the previously loaded `housing` training set with follow input: `data = housing`\n",
        "\n",
        "* The `y` argument takes a string, which specifies a continuous reponse variable by header name. In this example, we input `'SalePrice'` in the interest of predicting the sale price of homes in Ames, Iowa with the following input: `y = 'SalePrice'`"
      ]
    },
    {
      "cell_type": "code",
      "execution_count": null,
      "metadata": {
        "colab": {
          "base_uri": "https://localhost:8080/"
        },
        "id": "9qRV9hjPjJVF",
        "outputId": "48fbafd9-075a-42a2-90ca-4f33eddce079"
      },
      "outputs": [
        {
          "output_type": "stream",
          "name": "stderr",
          "text": [
            "dist_matrix: 100%|##########| 777/777 [07:22<00:00,  1.76it/s]\n",
            "index: 100%|##########| 59/59 [00:00<00:00, 100.32it/s]\n",
            "ori_index: 100%|##########| 59/59 [00:00<00:00, 3625.21it/s]\n",
            "dist_matrix: 100%|##########| 777/777 [05:31<00:00,  2.34it/s]\n",
            "index: 100%|##########| 138/138 [00:00<00:00, 495.39it/s]\n",
            "ori_index: 100%|##########| 138/138 [00:00<00:00, 3387.89it/s]\n"
          ]
        }
      ],
      "source": [
        "## conduct adasyn\n",
        "college_adasyn = iblr.adasyn(\n",
        "    ## main arguments\n",
        "    data=college,  ## pandas dataframe\n",
        "    y='Grad.Rate'  ## string ('header name')\n",
        ")"
      ]
    },
    {
      "cell_type": "markdown",
      "metadata": {
        "id": "NBKhYMx4OmKW"
      },
      "source": [
        "**Note:**\n",
        "\n",
        "In this example, the regions of interest within the response variable `y` are automatically determined by the box plot extremes. The extreme values are considered rare \"minorty\" values are over-sampled. \n",
        "\n",
        "If there are no box plot extremes contained in the reponse variable `y`, the argument `rel_method = manual` must be specified, and an input matrix must be placed into the argument `rel_ctrl_pts_rg` indicating the regions of rarity in `y`.\n",
        "\n",
        "More information regarding the matrix input to the `rel_ctrl_pts_rg` argument and manual over-sampling can be found within the function's doc string, as well as in Nick Kunz's package SMOGN: https://github.com/nickkunz/smogn/blob/master/examples/smogn_example_3_adv.ipynb.\n",
        "\n",
        "It is also important to mention that by default, `ImbalancedLearningRegression.adasyn` will first automatically remove columns containing missing values and then remove rows, as it cannot input data containing missing values. This feature can be changed with the boolean arguments `drop_na_col = False` and `drop_na_rows = False`."
      ]
    },
    {
      "cell_type": "markdown",
      "metadata": {
        "id": "JSYCW_1t-zra"
      },
      "source": [
        "## Results\n",
        "After conducting Adaptive Synthetic Minority Over-Sampling Technique for Regression, we briefly examine the results. \n",
        "\n",
        "We can see that the number of observations (rows) in the original training set increased from 777 to 1104, while the number of features (columns) remains the same. \n",
        "\n",
        "Recall that `ImbalancedLearningRegression.adasyn` automatically removes features containing missing values. In this case, no features contained missing values.\n",
        "\n",
        "The increase in observations were a result of over-sampling. More detailed information in this regard can be found in the original paper cited in the **References** section.\n",
        "\n",
        "\n"
      ]
    },
    {
      "cell_type": "code",
      "execution_count": null,
      "metadata": {
        "colab": {
          "base_uri": "https://localhost:8080/"
        },
        "id": "spqtcHX1yTfM",
        "outputId": "c8e0eec0-6c3b-48b2-ec47-05b827005417"
      },
      "outputs": [
        {
          "output_type": "execute_result",
          "data": {
            "text/plain": [
              "(777, 19)"
            ]
          },
          "metadata": {},
          "execution_count": 5
        }
      ],
      "source": [
        "## dimensions - original data \n",
        "college.shape"
      ]
    },
    {
      "cell_type": "code",
      "execution_count": null,
      "metadata": {
        "colab": {
          "base_uri": "https://localhost:8080/"
        },
        "id": "BJnFAM8VpTUZ",
        "outputId": "ebc6af51-ca24-4af5-8af1-97134de37ff8"
      },
      "outputs": [
        {
          "output_type": "execute_result",
          "data": {
            "text/plain": [
              "(1104, 19)"
            ]
          },
          "metadata": {},
          "execution_count": 6
        }
      ],
      "source": [
        "## dimensions - modified data\n",
        "college_adasyn.shape"
      ]
    },
    {
      "cell_type": "markdown",
      "metadata": {
        "id": "WgJWRm3AN-Vn"
      },
      "source": [
        "Further examining the results, we can see that the distribution of the response variable has changed. By calling the `box_plot_stats` function from this package (`ImbalancedLearningRegression.box_plot_stats`) we quickly verify.\n",
        "\n",
        "Notice that the modified training set's box plot five number summary has not changed."
      ]
    },
    {
      "cell_type": "code",
      "execution_count": null,
      "metadata": {
        "colab": {
          "base_uri": "https://localhost:8080/"
        },
        "id": "6IjxkbBwspsN",
        "outputId": "a5ccf71d-a286-497b-92f9-fbbdb0adddd8"
      },
      "outputs": [
        {
          "output_type": "execute_result",
          "data": {
            "text/plain": [
              "array([ 18.,  53.,  65.,  78., 100.])"
            ]
          },
          "metadata": {},
          "execution_count": 7
        }
      ],
      "source": [
        "## box plot stats - original data \n",
        "iblr.box_plot_stats(college['Grad.Rate'])['stats']"
      ]
    },
    {
      "cell_type": "code",
      "execution_count": null,
      "metadata": {
        "colab": {
          "base_uri": "https://localhost:8080/"
        },
        "id": "MCZtVBfU-CLM",
        "outputId": "bd0b1f11-0ac3-4292-cdee-2458b7b13bfb"
      },
      "outputs": [
        {
          "output_type": "execute_result",
          "data": {
            "text/plain": [
              "array([ 18.,  53.,  65.,  78., 100.])"
            ]
          },
          "metadata": {},
          "execution_count": 8
        }
      ],
      "source": [
        "## box plot stats - modified data\n",
        "iblr.box_plot_stats(college['Grad.Rate'])['stats']"
      ]
    },
    {
      "cell_type": "markdown",
      "metadata": {
        "id": "Nex80wz1-VKY"
      },
      "source": [
        "Plotting the results of both the original and modified training sets, the new distribution of the response variable in the modified training set becomes more evident.\n",
        "\n",
        "In this example, ADASYN over-sampled observations whose `'Grad.Rate'` was found to be extremely high according to the box plot (those considered \"minority\").\n",
        "\n",
        "This is the quickest implementation when the `y` values of interest in predicting may be unclear within a given dataset.\n",
        "\n"
      ]
    },
    {
      "cell_type": "code",
      "execution_count": null,
      "metadata": {
        "colab": {
          "base_uri": "https://localhost:8080/",
          "height": 279
        },
        "id": "mr_My8zHEM_9",
        "outputId": "d7a480c3-eef6-4cfc-f19d-fa9c45d938b5"
      },
      "outputs": [
        {
          "output_type": "display_data",
          "data": {
            "text/plain": [
              "<Figure size 432x288 with 1 Axes>"
            ],
            "image/png": "[encoded data removed]"
          },
          "metadata": {
            "needs_background": "light"
          }
        }
      ],
      "source": [
        "## plot y distribution \n",
        "college_adasyn.reset_index(inplace=True)\n",
        "seaborn.kdeplot(college['Grad.Rate'], label=\"Original\")\n",
        "seaborn.kdeplot(college_adasyn['Grad.Rate'], label=\"Modified\")\n",
        "plt.show()"
      ]
    },
    {
      "cell_type": "markdown",
      "metadata": {
        "id": "XA5_E-5oQF18"
      },
      "source": [
        "## Conclusion\n",
        "In this example, we covered the fundamentals of ADASYN. We utilized the College Dataset to conduct Adaptive Synthetic Minority Over-Sampling Technique for Regression with the minimum required arguments. \n",
        "\n",
        "ADASYN over-sampled \"minority\" values in a continuous response variable. The results were briefly examined with the box plot's five number summary and plotted for visual confirmation.\n"
      ]
    },
    {
      "cell_type": "markdown",
      "metadata": {
        "id": "rAQ5iGDJa2LM"
      },
      "source": [
        "## References\n",
        "\n",
        "Branco, P., Torgo, L., Ribeiro, R. (2017). SMOGN: A Pre-Processing Approach for Imbalanced Regression. Proceedings of Machine Learning Research, 74:36-50. http://proceedings.mlr.press/v74/branco17a/branco17a.pdf.\n",
        "\n",
        "He, H., Bai, Y., Garcia, E. A., & Li, S. (2008, June).\n",
        "ADASYN: Adaptive synthetic sampling approach for imbalanced\n",
        "learning. In 2008 IEEE international joint conference on neural\n",
        "networks (IEEE world congress on computational intelligence)\n",
        "(pp. 1322-1328). IEEE. https://www.ele.uri.edu/faculty/he/PDFfiles/adasyn.pdf\n",
        "\n",
        "Kunz, N. (2019). SMOGN: Synthetic Minority Over-Sampling for Regression with Gaussian Noise (Version 0.1.0). Python Package Index.\n",
        "https://pypi.org/project/smogn.\n",
        "\n",
        "Gareth, J., Daniela, W., Trevor, H., & Robert, T. (2013). An introduction to statistical learning: with applications in R. Spinger."
      ]
    }
  ],
  "metadata": {
    "colab": {
      "collapsed_sections": [],
      "name": "ADASYN_example.ipynb",
      "provenance": []
    },
    "kernelspec": {
      "display_name": "Python 3 (ipykernel)",
      "language": "python",
      "name": "python3"
    },
    "language_info": {
      "codemirror_mode": {
        "name": "ipython",
        "version": 3
      },
      "file_extension": ".py",
      "mimetype": "text/x-python",
      "name": "python",
      "nbconvert_exporter": "python",
      "pygments_lexer": "ipython3",
      "version": "3.9.7"
    }
  },
  "nbformat": 4,
  "nbformat_minor": 0
}