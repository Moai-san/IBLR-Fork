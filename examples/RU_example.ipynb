{
 "cells": [
  {
   "cell_type": "markdown",
   "metadata": {
    "id": "IoG91SaLwtuq"
   },
   "source": [
    "# Random Undersampling : Usage\n",
    "---\n",
    "## Examples\n"
   ]
  },
  {
   "cell_type": "markdown",
   "metadata": {
    "id": "YOSHCUHR--nw"
   },
   "source": [
    "## Installation\n",
    "\n",
    "First, we install ImbalancedLearningRegression from the Github repository. Alternatively, we could install from the official PyPI distribution. However, the developer version is utilized here for the latest release."
   ]
  },
  {
   "cell_type": "code",
   "execution_count": 1,
   "metadata": {
    "id": "u9SqBgJ8rduy"
   },
   "outputs": [
    {
     "name": "stdout",
     "output_type": "stream",
     "text": [
      "Collecting git+https://github.com/paobranco/ImbalancedLearningRegression.git\n",
      "  Cloning https://github.com/paobranco/ImbalancedLearningRegression.git to /private/var/folders/qg/fsqzy0md0ggfcb72fr3n9lh80000gn/T/pip-req-build-qlasvrb8\n",
      "  Running command git clone -q https://github.com/paobranco/ImbalancedLearningRegression.git /private/var/folders/qg/fsqzy0md0ggfcb72fr3n9lh80000gn/T/pip-req-build-qlasvrb8\n",
      "Requirement already satisfied: numpy in /Users/konglingyi/opt/anaconda3/lib/python3.8/site-packages (from ImbalancedLearningRegression==0.0.0) (1.20.1)\n",
      "Requirement already satisfied: pandas in /Users/konglingyi/opt/anaconda3/lib/python3.8/site-packages (from ImbalancedLearningRegression==0.0.0) (1.2.4)\n",
      "Requirement already satisfied: tqdm in /Users/konglingyi/opt/anaconda3/lib/python3.8/site-packages (from ImbalancedLearningRegression==0.0.0) (4.59.0)\n",
      "Requirement already satisfied: sklearn in /Users/konglingyi/opt/anaconda3/lib/python3.8/site-packages (from ImbalancedLearningRegression==0.0.0) (0.0)\n",
      "Requirement already satisfied: python-dateutil>=2.7.3 in /Users/konglingyi/opt/anaconda3/lib/python3.8/site-packages (from pandas->ImbalancedLearningRegression==0.0.0) (2.8.1)\n",
      "Requirement already satisfied: pytz>=2017.3 in /Users/konglingyi/opt/anaconda3/lib/python3.8/site-packages (from pandas->ImbalancedLearningRegression==0.0.0) (2021.1)\n",
      "Requirement already satisfied: six>=1.5 in /Users/konglingyi/opt/anaconda3/lib/python3.8/site-packages (from python-dateutil>=2.7.3->pandas->ImbalancedLearningRegression==0.0.0) (1.15.0)\n",
      "Requirement already satisfied: scikit-learn in /Users/konglingyi/opt/anaconda3/lib/python3.8/site-packages (from sklearn->ImbalancedLearningRegression==0.0.0) (0.24.1)\n",
      "Requirement already satisfied: joblib>=0.11 in /Users/konglingyi/opt/anaconda3/lib/python3.8/site-packages (from scikit-learn->sklearn->ImbalancedLearningRegression==0.0.0) (1.0.1)\n",
      "Requirement already satisfied: scipy>=0.19.1 in /Users/konglingyi/opt/anaconda3/lib/python3.8/site-packages (from scikit-learn->sklearn->ImbalancedLearningRegression==0.0.0) (1.6.2)\n",
      "Requirement already satisfied: threadpoolctl>=2.0.0 in /Users/konglingyi/opt/anaconda3/lib/python3.8/site-packages (from scikit-learn->sklearn->ImbalancedLearningRegression==0.0.0) (2.1.0)\n"
     ]
    }
   ],
   "source": [
    "## suppress install output\n",
    "##%%capture\n",
    "\n",
    "## install pypi release\n",
    "#!pip install smote\n",
    "\n",
    "## install developer version\n",
    "!pip install git+https://github.com/paobranco/ImbalancedLearningRegression.git\n"
   ]
  },
  {
   "cell_type": "markdown",
   "metadata": {
    "id": "gKhs9eJd_Ab6"
   },
   "source": [
    "## Dependencies\n",
    "Next, we load the required dependencies. Here we import `random_under` to later apply Under-sample the majority class(es) by randomly picking samples with or without replacement. In addition, we use `pandas` for data handling, `matplotlib` and `seaborn` to visualize our results, and `ssl` to help read the dataframe from external resources.."
   ]
  },
  {
   "cell_type": "code",
   "execution_count": 2,
   "metadata": {
    "id": "fPB6tSLinAFS"
   },
   "outputs": [],
   "source": [
    "## load dependencies\n",
    "## load libraries\n",
    "import pandas as pd\n",
    "import seaborn\n",
    "import matplotlib.pyplot as plt\n",
    "import ssl\n",
    "import ImbalancedLearningRegression as iblr\n",
    "\n",
    "from random_under import random_under"
   ]
  },
  {
   "cell_type": "markdown",
   "metadata": {
    "id": "do8cJ25c_HcF"
   },
   "source": [
    "## Data\n",
    "After, we load our data. In this example, we use the Ames Housing Dataset training split retreived from Kaggle, originally complied by Dean De Cock. In this case, we name our training set `housing`\n"
   ]
  },
  {
   "cell_type": "code",
   "execution_count": 3,
   "metadata": {
    "id": "RaFdQ2od-qVO"
   },
   "outputs": [],
   "source": [
    "ssl._create_default_https_context = ssl._create_unverified_context\n",
    "\n",
    "housing = pd.read_csv(\n",
    "    ## http://jse.amstat.org/v19n3/decock.pdf\n",
    "    'https://raw.githubusercontent.com/nickkunz/smogn/master/data/housing.csv'\n",
    ")\n"
   ]
  },
  {
   "cell_type": "markdown",
   "metadata": {
    "id": "D71nm6Co_KK-"
   },
   "source": [
    "## Introduction to Random UnderSampling\n",
    "Here we cover the focus of this example. We call the `random_under` function from this package (`ImbalancedLearningRegression.random_under`) and satisfy the minimum required arguments: `data` and `y`.\n",
    "\n",
    "* The `data` argument takes a Pandas DataFrame, which contains the training set split. In this example, we input the previously loaded `housing` training set with follow input: `data = housing`\n",
    "\n",
    "* The `y` argument takes a string, which specifies a continuous reponse variable by header name. In this example, we input `'SalePrice'` in the interest of predicting the sale price of homes in Ames, Iowa with the following input: `y = 'SalePrice'`"
   ]
  },
  {
   "cell_type": "code",
   "execution_count": 4,
   "metadata": {
    "colab": {
     "base_uri": "https://localhost:8080/"
    },
    "id": "9qRV9hjPjJVF",
    "outputId": "b3dd0dec-58cf-4c37-c94a-6c5a308e6ee9"
   },
   "outputs": [
    {
     "name": "stderr",
     "output_type": "stream",
     "text": [
      "/Users/konglingyi/opt/anaconda3/lib/python3.8/site-packages/pandas/core/indexing.py:1676: SettingWithCopyWarning: \n",
      "A value is trying to be set on a copy of a slice from a DataFrame.\n",
      "Try using .loc[row_indexer,col_indexer] = value instead\n",
      "\n",
      "See the caveats in the documentation: https://pandas.pydata.org/pandas-docs/stable/user_guide/indexing.html#returning-a-view-versus-a-copy\n",
      "  self._setitem_single_column(ilocs[0], value, pi)\n",
      "new_index: 100%|##########| 515/515 [00:00<00:00, 674.21it/s]\n"
     ]
    }
   ],
   "source": [
    "## conduct smote\n",
    "housing_ru = random_under(\n",
    "    ## main arguments\n",
    "    data = housing,  ## pandas dataframe\n",
    "    y = \"SalePrice\",  ## string ('header name')\n",
    ")"
   ]
  },
  {
   "cell_type": "markdown",
   "metadata": {
    "id": "NBKhYMx4OmKW"
   },
   "source": [
    "**Note:**\n",
    "\n",
    "In this example, the regions of interest within the response variable y are automatically determined by the box plot extremes. The extreme values are considered rare \"minorty\" values are over-sampled. The values closer the median are considered \"majority\" values and are under-sampled.\n",
    "\n",
    "If there are no box plot extremes contained in the reponse variable y, the argument rel_method = manual must be specified, and an input matrix must be placed into the argument rel_ctrl_pts_rg indicating the regions of rarity in y.\n",
    "\n",
    "More information regarding the matrix input to the rel_ctrl_pts_rg argument and manual over-sampling can be found within the function's doc string, as well as in Nick Kunz's package SMOGN: https://github.com/nickkunz/smogn/blob/master/examples/smogn_example_3_adv.ipynb.\n",
    "\n",
    "It is also important to mention that by default, ImbalancedLearningRegression.tomeklinks will first automatically remove columns containing missing values and then remove rows, as it cannot input data containing missing values. This feature can be changed with the boolean arguments drop_na_col = False and drop_na_rows = False."
   ]
  },
  {
   "cell_type": "markdown",
   "metadata": {
    "id": "JSYCW_1t-zra"
   },
   "source": [
    "## Results\n",
    "After conducting under-sample the majority class(es) by randomly picking samples with or without replacement, we briefly examine the results. \n",
    "\n",
    "We can see that the number of observations (rows) in the original training set decreased from 1460 to 730, while the number of features (columns) also decreased from 81 to 62. \n",
    "\n",
    "Recall that `ImbalancedLearningRegression.random_under` automatically removes features containing missing values. In this case, 19 features contained missing values and were therefore omitted.\n",
    "\n",
    "The reduction in observations were a result of under-sampling. More detailed information in this regard can be found in the original paper cited in the **References** section.\n",
    "\n",
    "\n"
   ]
  },
  {
   "cell_type": "code",
   "execution_count": 5,
   "metadata": {
    "colab": {
     "base_uri": "https://localhost:8080/"
    },
    "id": "spqtcHX1yTfM",
    "outputId": "731221f1-21ff-4d3b-831f-97eb8c3a1c26"
   },
   "outputs": [
    {
     "data": {
      "text/plain": [
       "(1460, 81)"
      ]
     },
     "execution_count": 5,
     "metadata": {},
     "output_type": "execute_result"
    }
   ],
   "source": [
    "## dimensions - original data \n",
    "housing.shape"
   ]
  },
  {
   "cell_type": "code",
   "execution_count": 6,
   "metadata": {
    "colab": {
     "base_uri": "https://localhost:8080/"
    },
    "id": "BJnFAM8VpTUZ",
    "outputId": "dbeebfb8-5444-41ff-e0e3-71a07b77d69c"
   },
   "outputs": [
    {
     "data": {
      "text/plain": [
       "(730, 62)"
      ]
     },
     "execution_count": 6,
     "metadata": {},
     "output_type": "execute_result"
    }
   ],
   "source": [
    "## dimensions - modified data\n",
    "housing_ru.shape"
   ]
  },
  {
   "cell_type": "markdown",
   "metadata": {
    "id": "WgJWRm3AN-Vn"
   },
   "source": [
    "Further examining the results, we can see that the distribution of the response variable has changed. By calling the `box_plot_stats` function from this package (`ImbalancedLearningRegression.box_plot_stats`) we quickly verify.\n",
    "\n",
    "Notice that the modified training set's box plot five number summary has changed, where the distribution of the response variable has *skewed right* when compared to the original training set."
   ]
  },
  {
   "cell_type": "code",
   "execution_count": 7,
   "metadata": {
    "colab": {
     "base_uri": "https://localhost:8080/"
    },
    "id": "6IjxkbBwspsN",
    "outputId": "9a83ff58-9ca2-4e6a-a3c8-a15f144aac12"
   },
   "outputs": [
    {
     "data": {
      "text/plain": [
       "array([ 34900., 129950., 163000., 214000., 340000.])"
      ]
     },
     "execution_count": 7,
     "metadata": {},
     "output_type": "execute_result"
    }
   ],
   "source": [
    "## box plot stats - original data \n",
    "iblr.box_plot_stats(housing['SalePrice'])['stats']"
   ]
  },
  {
   "cell_type": "code",
   "execution_count": 8,
   "metadata": {
    "colab": {
     "base_uri": "https://localhost:8080/"
    },
    "id": "MCZtVBfU-CLM",
    "outputId": "d63e4b7b-23b3-47b8-d422-5f5a4f12b1a8"
   },
   "outputs": [
    {
     "data": {
      "text/plain": [
       "array([ 34900. , 136500. , 179550. , 263783.5, 451950. ])"
      ]
     },
     "execution_count": 8,
     "metadata": {},
     "output_type": "execute_result"
    }
   ],
   "source": [
    "## box plot stats - modified data\n",
    "iblr.box_plot_stats(housing_ru['SalePrice'])['stats']"
   ]
  },
  {
   "cell_type": "markdown",
   "metadata": {
    "id": "Nex80wz1-VKY"
   },
   "source": [
    "Plotting the results of both the original and modified training sets, the *skewed right* distribution of the response variable in the modified training set becomes more evident.\n",
    "\n",
    "In this example, random_under uver-sampled observations whose `'SalePrice'` was found to be extremely high according to the box plot (those considered \"minority\") and under-sampled observations that were closer to the median (those considered \"majority\").\n",
    "\n",
    "This is the quickest implementation when the `y` values of interest in predicting may be unclear within a given dataset.\n",
    "\n"
   ]
  },
  {
   "cell_type": "code",
   "execution_count": 10,
   "metadata": {
    "colab": {
     "base_uri": "https://localhost:8080/",
     "height": 307
    },
    "id": "mr_My8zHEM_9",
    "outputId": "c272dfbf-a4ba-4644-87ac-fa7e07c4d54e"
   },
   "outputs": [
    {
     "data": {
      "image/png": "[encoded data removed]",
      "text/plain": [
       "<Figure size 432x288 with 1 Axes>"
      ]
     },
     "metadata": {
      "needs_background": "light"
     },
     "output_type": "display_data"
    }
   ],
   "source": [
    "## plot y distribution \n",
    "housing_ru.reset_index(inplace=True)\n",
    "\n",
    "seaborn.kdeplot(housing[\"SalePrice\"], label=\"Original\")\n",
    "seaborn.kdeplot(housing_ru[\"SalePrice\"], label=\"Modified\")\n",
    "plt.show()"
   ]
  },
  {
   "cell_type": "markdown",
   "metadata": {
    "id": "XA5_E-5oQF18"
   },
   "source": [
    "## Conclusion\n",
    "In this example, we covered the fundamentals of Random Undersampling. We utilized the Ames Housing Dataset to conduct under-sample the majority class(es) by randomly picking samples with or without replacement with the minimum required arguments. \n",
    "\n",
    "Random Undersampling under-sampled \"majority\" values in a continuous response variable. The results were briefly examined with the box plot's five number summary and plotted for visual confirmation.\n",
    "\n"
   ]
  },
  {
   "cell_type": "markdown",
   "metadata": {
    "id": "rAQ5iGDJa2LM"
   },
   "source": [
    "## References\n",
    "\n",
    "Branco, P., Torgo, L., Ribeiro, R. (2017). SMOGN: A Pre-Processing Approach for Imbalanced Regression. Proceedings of Machine Learning Research, 74:36-50. http://proceedings.mlr.press/v74/branco17a/branco17a.pdf.\n",
    "\n",
    "De Cock, D. (2011). Ames, Iowa: Alternative to the Boston Housing Data as an End of Semester Regression Project. Journal of Statistics Education 19(3). https://doi.org/10.1080/10691898.2011.11889627.\n",
    "\n",
    "Kunz, N. (2019). SMOGN: Synthetic Minority Over-Sampling for Regression with Gaussian Noise (Version 0.1.0). Python Package Index.\n",
    "https://pypi.org/project/smogn. "
   ]
  }
 ],
 "metadata": {
  "colab": {
   "collapsed_sections": [],
   "name": "SMOTE_example.ipynb",
   "provenance": []
  },
  "kernelspec": {
   "display_name": "Python 3",
   "language": "python",
   "name": "python3"
  },
  "language_info": {
   "codemirror_mode": {
    "name": "ipython",
    "version": 3
   },
   "file_extension": ".py",
   "mimetype": "text/x-python",
   "name": "python",
   "nbconvert_exporter": "python",
   "pygments_lexer": "ipython3",
   "version": "3.8.8"
  }
 },
 "nbformat": 4,
 "nbformat_minor": 1
}
