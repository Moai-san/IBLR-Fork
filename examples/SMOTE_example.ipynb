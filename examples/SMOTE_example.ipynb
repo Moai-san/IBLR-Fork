{
  "cells": [
    {
      "cell_type": "markdown",
      "metadata": {
        "id": "IoG91SaLwtuq"
      },
      "source": [
        "# ImbalancedLearningRegression (0.0.1): Usage\n",
        "---\n",
        "## SMOTE\n",
        "Gloria(Xinzi) Hu, 300011200, xhu005@uottawa.ca \\ Lingyi Kong, 300062668, lkong073@uottawa.ca \\ Adapted from \n",
        "Nick Kunz's SMOGN package: https://github.com/nickkunz/smogn/blob/master/examples/smogn_example_1_beg.ipynb\n"
      ]
    },
    {
      "cell_type": "markdown",
      "metadata": {
        "id": "YOSHCUHR--nw"
      },
      "source": [
        "## Installation\n",
        "\n",
        "First, we install ImbalancedLearningRegression from the Github repository. Alternatively, we could install from the official PyPI distribution. However, the developer version is utilized here for the latest release."
      ]
    },
    {
      "cell_type": "code",
      "execution_count": null,
      "metadata": {
        "id": "u9SqBgJ8rduy"
      },
      "outputs": [],
      "source": [
        "## suppress install output\n",
        "##%%capture\n",
        "\n",
        "## install pypi release\n",
        "# !pip install ImbalancedLearningRegression\n",
        "\n",
        "## install developer version\n",
        "!pip install git+https://github.com/paobranco/ImbalancedLearningRegression.git"
      ]
    },
    {
      "cell_type": "markdown",
      "metadata": {
        "id": "gKhs9eJd_Ab6"
      },
      "source": [
        "## Dependencies\n",
        "Next, we load the required dependencies. Here we import `ImbalancedLearningRegression` to later apply Synthetic Minority Over-Sampling Technique for Regression with SMOTE. In addition, we use `pandas` for data handling, and `seaborn` to visualize our results."
      ]
    },
    {
      "cell_type": "code",
      "execution_count": null,
      "metadata": {
        "id": "fPB6tSLinAFS"
      },
      "outputs": [],
      "source": [
        "## load dependencies\n",
        "## load libraries\n",
        "import pandas as pd\n",
        "import seaborn\n",
        "import matplotlib.pyplot as plt\n",
        "import ImbalancedLearningRegression as iblr"
      ]
    },
    {
      "cell_type": "markdown",
      "metadata": {
        "id": "do8cJ25c_HcF"
      },
      "source": [
        "## Data\n",
        "Then we load our data. In this example, we use the College Data set, which can be found on the website for the main course textbook(\"An Introduction to Statistical Learning with Applications in R\") James et al. http://www-bcf.usc.edu/~gareth/ISL/data.html. It contains a number of variables for 777 different universities and colleges in the US. In this case, we name our training set `college`.\n"
      ]
    },
    {
      "cell_type": "code",
      "execution_count": null,
      "metadata": {
        "id": "RaFdQ2od-qVO"
      },
      "outputs": [],
      "source": [
        "college = pd.read_csv(\n",
        "    ## https://github.com/nguyen-toan/ISLR\n",
        "    \"https://raw.githubusercontent.com/paobranco/ImbalancedLearningRegression/master/data/College.csv\"\n",
        ")\n"
      ]
    },
    {
      "cell_type": "markdown",
      "metadata": {
        "id": "D71nm6Co_KK-"
      },
      "source": [
        "## Introduction to SMOTE\n",
        "Here we cover the focus of this example. We call the `smote` function from this package (`ImbalancedLearningRegression.smote`) and satisfy the minimum required arguments: `data` and `y`.\n",
        "\n",
        "* The `data` argument takes a Pandas DataFrame, which contains the training set split. In this example, we input the previously loaded `college` training set with follow input: `data = college`\n",
        "\n",
        "* The `y` argument takes a string, which specifies a continuous reponse variable by header name. In this example, we input `'Grad.Rate'` to focus on predicting the graduation rate of different US colleges, with the following input: `y = 'Grad.Rate'`"
      ]
    },
    {
      "cell_type": "code",
      "execution_count": null,
      "metadata": {
        "colab": {
          "base_uri": "https://localhost:8080/"
        },
        "id": "9qRV9hjPjJVF",
        "outputId": "9c4b115e-1e92-4f75-ecc5-f906fdf0cd6a"
      },
      "outputs": [
        {
          "output_type": "stream",
          "name": "stderr",
          "text": [
            "/usr/local/lib/python3.7/dist-packages/pandas/core/indexing.py:1773: SettingWithCopyWarning: \n",
            "A value is trying to be set on a copy of a slice from a DataFrame.\n",
            "Try using .loc[row_indexer,col_indexer] = value instead\n",
            "\n",
            "See the caveats in the documentation: https://pandas.pydata.org/pandas-docs/stable/user_guide/indexing.html#returning-a-view-versus-a-copy\n",
            "  self._setitem_single_column(ilocs[0], value, pi)\n",
            "dist_matrix: 100%|##########| 59/59 [00:06<00:00,  8.94it/s]\n",
            "synth_matrix: 100%|##########| 59/59 [00:01<00:00, 38.95it/s]\n",
            "r_index: 100%|##########| 22/22 [00:00<00:00, 115.32it/s]\n",
            "dist_matrix: 100%|##########| 138/138 [00:21<00:00,  6.40it/s]\n",
            "r_index: 100%|##########| 120/120 [00:00<00:00, 234.08it/s]\n"
          ]
        }
      ],
      "source": [
        "## conduct smote\n",
        "college_smote = iblr.smote(\n",
        "    ## main arguments\n",
        "    data = college,  ## pandas dataframe\n",
        "    y = \"Grad.Rate\"  ## string ('header name')\n",
        ")"
      ]
    },
    {
      "cell_type": "markdown",
      "metadata": {
        "id": "NBKhYMx4OmKW"
      },
      "source": [
        "**Note:**\n",
        "\n",
        "In this example, the regions of interest within the response variable `y` are automatically determined by the box plot extremes. The extreme values are considered rare \"minorty\" values are over-sampled. \n",
        "\n",
        "If there are no box plot extremes contained in the reponse variable `y`, the argument `rel_method = manual` must be specified, and an input matrix must be placed into the argument `rel_ctrl_pts_rg` indicating the regions of rarity in `y`.\n",
        "\n",
        "More information regarding the matrix input to the `rel_ctrl_pts_rg` argument and manual over-sampling can be found within the function's doc string, as well as in Nick Kunz's package SMOGN: https://github.com/nickkunz/smogn/blob/master/examples/smogn_example_3_adv.ipynb.\n",
        "\n",
        "It is also important to mention that by default, `ImbalancedLearningRegression.smote` will first automatically remove columns containing missing values and then remove rows, as it cannot input data containing missing values. This feature can be changed with the boolean arguments `drop_na_col = False` and `drop_na_rows = False`."
      ]
    },
    {
      "cell_type": "markdown",
      "metadata": {
        "id": "JSYCW_1t-zra"
      },
      "source": [
        "## Results\n",
        "After conducting Synthetic Minority Over-Sampling Technique for Regression, we briefly examine the results. \n",
        "\n",
        "We can see that the number of observations (rows) in the original training set increased from 777 to 899, while the number of features (columns) remains the same. \n",
        "\n",
        "Recall that `ImbalancedLearningRegression.smote` automatically removes features containing missing values. In this case, no features contained missing values.\n",
        "\n",
        "The increase in observations were a result of over-sampling. More detailed information in this regard can be found in the original paper cited in the **References** section.\n",
        "\n",
        "\n"
      ]
    },
    {
      "cell_type": "code",
      "execution_count": null,
      "metadata": {
        "colab": {
          "base_uri": "https://localhost:8080/"
        },
        "id": "spqtcHX1yTfM",
        "outputId": "bfae806f-6e9c-4db7-a09d-0a7786e5d202"
      },
      "outputs": [
        {
          "output_type": "execute_result",
          "data": {
            "text/plain": [
              "(777, 19)"
            ]
          },
          "metadata": {},
          "execution_count": 6
        }
      ],
      "source": [
        "## dimensions - original data \n",
        "college.shape"
      ]
    },
    {
      "cell_type": "code",
      "execution_count": null,
      "metadata": {
        "colab": {
          "base_uri": "https://localhost:8080/"
        },
        "id": "BJnFAM8VpTUZ",
        "outputId": "9cc37ca8-24c9-480e-beec-8328205387f5"
      },
      "outputs": [
        {
          "output_type": "execute_result",
          "data": {
            "text/plain": [
              "(899, 19)"
            ]
          },
          "metadata": {},
          "execution_count": 7
        }
      ],
      "source": [
        "## dimensions - modified data\n",
        "college_smote.shape"
      ]
    },
    {
      "cell_type": "markdown",
      "metadata": {
        "id": "WgJWRm3AN-Vn"
      },
      "source": [
        "Further examining the results, we can see that the distribution of the response variable has changed. By calling the `box_plot_stats` function from this package (`ImbalancedLearningRegression.box_plot_stats`) we quickly verify.\n",
        "\n",
        "Notice that the modified training set's box plot five number summary has changed, where the distribution of the response variable has *skewed left* when compared to the original training set."
      ]
    },
    {
      "cell_type": "code",
      "execution_count": null,
      "metadata": {
        "colab": {
          "base_uri": "https://localhost:8080/"
        },
        "id": "6IjxkbBwspsN",
        "outputId": "c7fc0dcc-152c-42d5-eddf-deb8ca3924da"
      },
      "outputs": [
        {
          "output_type": "execute_result",
          "data": {
            "text/plain": [
              "array([ 18.,  53.,  65.,  78., 100.])"
            ]
          },
          "metadata": {},
          "execution_count": 8
        }
      ],
      "source": [
        "## box plot stats - original data \n",
        "iblr.box_plot_stats(college['Grad.Rate'])['stats']"
      ]
    },
    {
      "cell_type": "code",
      "execution_count": null,
      "metadata": {
        "colab": {
          "base_uri": "https://localhost:8080/"
        },
        "id": "MCZtVBfU-CLM",
        "outputId": "d22730b4-42ea-49f2-f009-7f73479137cd"
      },
      "outputs": [
        {
          "output_type": "execute_result",
          "data": {
            "text/plain": [
              "array([ 13.,  48.,  61.,  74., 107.])"
            ]
          },
          "metadata": {},
          "execution_count": 9
        }
      ],
      "source": [
        "## box plot stats - modified data\n",
        "iblr.box_plot_stats(college_smote['Grad.Rate'])['stats']"
      ]
    },
    {
      "cell_type": "markdown",
      "metadata": {
        "id": "Nex80wz1-VKY"
      },
      "source": [
        "Plotting the results of both the original and modified training sets, the *skewed left* distribution of the response variable in the modified training set becomes more evident.\n",
        "\n",
        "In this example, SMOTE over-sampled observations whose `'Grad.Rate'` was found to be extremely high according to the box plot (those considered \"minority\").\n",
        "\n",
        "This is the quickest implementation when the `y` values of interest in predicting may be unclear within a given dataset.\n",
        "\n"
      ]
    },
    {
      "cell_type": "code",
      "execution_count": null,
      "metadata": {
        "colab": {
          "base_uri": "https://localhost:8080/",
          "height": 279
        },
        "id": "mr_My8zHEM_9",
        "outputId": "3b0b1f52-e2df-422a-b3b8-6ecae3ed0a9a"
      },
      "outputs": [
        {
          "output_type": "display_data",
          "data": {
            "text/plain": [
              "<Figure size 432x288 with 1 Axes>"
            ],
            "image/png": "[encoded data removed]"
          },
          "metadata": {
            "needs_background": "light"
          }
        }
      ],
      "source": [
        "## plot y distribution \n",
        "college_smote.reset_index(inplace=True)\n",
        "seaborn.kdeplot(college[\"Grad.Rate\"], label=\"Original\")\n",
        "seaborn.kdeplot(college_smote[\"Grad.Rate\"], label=\"Modified\")\n",
        "plt.legend(labels=[\"Original\",\"Modified\"])\n",
        "plt.show()"
      ]
    },
    {
      "cell_type": "markdown",
      "metadata": {
        "id": "XA5_E-5oQF18"
      },
      "source": [
        "## Conclusion\n",
        "In this example, we covered the fundamentals of SMOTE. We utilized the College Dataset to conduct Synthetic Minority Over-Sampling Technique for Regression with the minimum required arguments. \n",
        "\n",
        "SMOTE over-sampled \"minority\" values in a continuous response variable. The results were briefly examined with the box plot's five number summary and plotted for visual confirmation."
      ]
    },
    {
      "cell_type": "markdown",
      "metadata": {
        "id": "rAQ5iGDJa2LM"
      },
      "source": [
        "## References\n",
        "\n",
        "Branco, P., Torgo, L., Ribeiro, R. (2017). SMOGN: A Pre-Processing Approach for Imbalanced Regression. Proceedings of Machine Learning Research, 74:36-50. http://proceedings.mlr.press/v74/branco17a/branco17a.pdf.\n",
        "\n",
        "Torgo, L., Ribeiro, R. P., Pfahringer, B., & Branco, P. (2013, September). Smote for regression. In Portuguese conference on artificial intelligence (pp. 378-389). Springer, Berlin, Heidelberg. https://researchcommons.waikato.ac.nz/bitstream/handle/10289/8518/smoteR.pdf?sequence=23\n",
        "\n",
        "Kunz, N. (2019). SMOGN: Synthetic Minority Over-Sampling for Regression with Gaussian Noise (Version 0.1.0). Python Package Index.\n",
        "https://pypi.org/project/smogn. \n",
        "\n",
        "Gareth, J., Daniela, W., Trevor, H., & Robert, T. (2013). An introduction to statistical learning: with applications in R. Spinger.\n",
        "http://www-bcf.usc.edu/~gareth/ISL/data.html.\n",
        "\n"
      ]
    }
  ],
  "metadata": {
    "colab": {
      "collapsed_sections": [],
      "name": "SMOTE_example.ipynb",
      "provenance": []
    },
    "kernelspec": {
      "display_name": "Python 3 (ipykernel)",
      "language": "python",
      "name": "python3"
    },
    "language_info": {
      "codemirror_mode": {
        "name": "ipython",
        "version": 3
      },
      "file_extension": ".py",
      "mimetype": "text/x-python",
      "name": "python",
      "nbconvert_exporter": "python",
      "pygments_lexer": "ipython3",
      "version": "3.9.7"
    }
  },
  "nbformat": 4,
  "nbformat_minor": 0
}