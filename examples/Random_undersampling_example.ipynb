{
 "cells": [
  {
   "cell_type": "markdown",
   "metadata": {
    "id": "IoG91SaLwtuq"
   },
   "source": [
    "# ImbalancedLearningRegression (0.0.0): Usage\n",
    "---\n",
    "## Random UnderSampling\n",
    "\n",
    "Gloria(Xinzi) Hu, 300011200, xhu005@uottawa.ca \\ Lingyi Kong, 300062668, lkong073@uottawa.ca \\ Adapted from Nick Kunz's SMOGN package: https://github.com/nickkunz/smogn/blob/master/examples/smogn_example_1_beg.ipynb\n"
   ]
  },
  {
   "cell_type": "markdown",
   "metadata": {
    "id": "YOSHCUHR--nw"
   },
   "source": [
    "## Installation\n",
    "\n",
    "First, we install ImbalancedLearningRegression from the Github repository. Alternatively, we could install from the official PyPI distribution. However, the developer version is utilized here for the latest release."
   ]
  },
  {
   "cell_type": "code",
   "execution_count": null,
   "metadata": {
    "colab": {
     "base_uri": "https://localhost:8080/"
    },
    "id": "u9SqBgJ8rduy",
    "outputId": "27f5811c-3dd4-40f1-bb6b-c3210e0fc703"
   },
   "outputs": [
    {
     "name": "stdout",
     "output_type": "stream",
     "text": [
      "Collecting git+https://github.com/paobranco/ImbalancedLearningRegression.git\n",
      "  Cloning https://github.com/paobranco/ImbalancedLearningRegression.git to /tmp/pip-req-build-wnoqn37l\n",
      "  Running command git clone -q https://github.com/paobranco/ImbalancedLearningRegression.git /tmp/pip-req-build-wnoqn37l\n",
      "Requirement already satisfied: numpy in /usr/local/lib/python3.7/dist-packages (from ImbalancedLearningRegression==0.0.0) (1.21.5)\n",
      "Requirement already satisfied: pandas in /usr/local/lib/python3.7/dist-packages (from ImbalancedLearningRegression==0.0.0) (1.3.5)\n",
      "Requirement already satisfied: tqdm in /usr/local/lib/python3.7/dist-packages (from ImbalancedLearningRegression==0.0.0) (4.63.0)\n",
      "Requirement already satisfied: sklearn in /usr/local/lib/python3.7/dist-packages (from ImbalancedLearningRegression==0.0.0) (0.0)\n",
      "Requirement already satisfied: python-dateutil>=2.7.3 in /usr/local/lib/python3.7/dist-packages (from pandas->ImbalancedLearningRegression==0.0.0) (2.8.2)\n",
      "Requirement already satisfied: pytz>=2017.3 in /usr/local/lib/python3.7/dist-packages (from pandas->ImbalancedLearningRegression==0.0.0) (2018.9)\n",
      "Requirement already satisfied: six>=1.5 in /usr/local/lib/python3.7/dist-packages (from python-dateutil>=2.7.3->pandas->ImbalancedLearningRegression==0.0.0) (1.15.0)\n",
      "Requirement already satisfied: scikit-learn in /usr/local/lib/python3.7/dist-packages (from sklearn->ImbalancedLearningRegression==0.0.0) (1.0.2)\n",
      "Requirement already satisfied: scipy>=1.1.0 in /usr/local/lib/python3.7/dist-packages (from scikit-learn->sklearn->ImbalancedLearningRegression==0.0.0) (1.4.1)\n",
      "Requirement already satisfied: threadpoolctl>=2.0.0 in /usr/local/lib/python3.7/dist-packages (from scikit-learn->sklearn->ImbalancedLearningRegression==0.0.0) (3.1.0)\n",
      "Requirement already satisfied: joblib>=0.11 in /usr/local/lib/python3.7/dist-packages (from scikit-learn->sklearn->ImbalancedLearningRegression==0.0.0) (1.1.0)\n",
      "Building wheels for collected packages: ImbalancedLearningRegression\n",
      "  Building wheel for ImbalancedLearningRegression (setup.py) ... \u001b[?25l\u001b[?25hdone\n",
      "  Created wheel for ImbalancedLearningRegression: filename=ImbalancedLearningRegression-0.0.0-py3-none-any.whl size=117510 sha256=11ad8b2d0c9d93a1fa3ad0868ae0812b7c2ceafa90dd7437f8dbc27c92abaf9e\n",
      "  Stored in directory: /tmp/pip-ephem-wheel-cache-_9orr3vo/wheels/89/80/c5/3b43c805c9eab7ff24db145fbb39077e4d23337f3f5d8e0173\n",
      "Successfully built ImbalancedLearningRegression\n",
      "Installing collected packages: ImbalancedLearningRegression\n",
      "Successfully installed ImbalancedLearningRegression-0.0.0\n"
     ]
    }
   ],
   "source": [
    "## suppress install output\n",
    "##%%capture\n",
    "\n",
    "## install pypi release\n",
    "#!pip install smote\n",
    "\n",
    "## install developer version\n",
    "!pip install git+https://github.com/paobranco/ImbalancedLearningRegression.git"
   ]
  },
  {
   "cell_type": "markdown",
   "metadata": {
    "id": "gKhs9eJd_Ab6"
   },
   "source": [
    "## Dependencies\n",
    "Next, we load the required dependencies. Here we import `random_under` to later apply Under-sample the majority class(es) by randomly picking samples with or without replacement. In addition, we use `pandas` for data handling, `matplotlib` and `seaborn` to visualize our results."
   ]
  },
  {
   "cell_type": "code",
   "execution_count": null,
   "metadata": {
    "id": "fPB6tSLinAFS"
   },
   "outputs": [],
   "source": [
    "## load dependencies\n",
    "## load libraries\n",
    "import pandas as pd\n",
    "import seaborn\n",
    "import matplotlib.pyplot as plt\n",
    "import ImbalancedLearningRegression as iblr"
   ]
  },
  {
   "cell_type": "markdown",
   "metadata": {
    "id": "do8cJ25c_HcF"
   },
   "source": [
    "## Data\n",
    "Then we load our data. In this example, we use the College Data set, which can be found on the website for the main course textbook(\"An Introduction to Statistical Learning with Applications in R\") James et al. http://www-bcf.usc.edu/~gareth/ISL/data.html. It contains a number of variables for 777 different universities and colleges in the US. In this case, we name our training set `college`.\n"
   ]
  },
  {
   "cell_type": "code",
   "execution_count": null,
   "metadata": {
    "id": "RaFdQ2od-qVO"
   },
   "outputs": [],
   "source": [
    "college = pd.read_csv(\n",
    "    ## https://github.com/nguyen-toan/ISLR\n",
    "    'https://raw.githubusercontent.com/paobranco/ImbalancedLearningRegression/master/data/College.csv'\n",
    ")\n"
   ]
  },
  {
   "cell_type": "markdown",
   "metadata": {
    "id": "D71nm6Co_KK-"
   },
   "source": [
    "## Introduction to Random UnderSampling\n",
    "Here we cover the focus of this example. We call the `random_under` function from this package (`ImbalancedLearningRegression.random_under`) and satisfy the minimum required arguments: `data` and `y`.\n",
    "\n",
    "* The `data` argument takes a Pandas DataFrame, which contains the training set split. In this example, we input the previously loaded `college` training set with follow input: `data = college`\n",
    "\n",
    "* The `y` argument takes a string, which specifies a continuous reponse variable by header name. In this example, we input `'Grad.Rate'` in the interest of predicting the sale price of homes in Ames, Iowa with the following input: `y = 'Grad.Rate'`"
   ]
  },
  {
   "cell_type": "code",
   "execution_count": null,
   "metadata": {
    "colab": {
     "base_uri": "https://localhost:8080/"
    },
    "id": "9qRV9hjPjJVF",
    "outputId": "67148792-c4a7-47f0-c730-0ca07b1f2827"
   },
   "outputs": [
    {
     "name": "stderr",
     "output_type": "stream",
     "text": [
      "/usr/local/lib/python3.7/dist-packages/pandas/core/indexing.py:1773: SettingWithCopyWarning: \n",
      "A value is trying to be set on a copy of a slice from a DataFrame.\n",
      "Try using .loc[row_indexer,col_indexer] = value instead\n",
      "\n",
      "See the caveats in the documentation: https://pandas.pydata.org/pandas-docs/stable/user_guide/indexing.html#returning-a-view-versus-a-copy\n",
      "  self._setitem_single_column(ilocs[0], value, pi)\n",
      "new_index: 100%|##########| 321/321 [00:00<00:00, 1702.89it/s]\n"
     ]
    }
   ],
   "source": [
    "## conduct random undersampling\n",
    "college_ru = iblr.random_under(\n",
    "    ## main arguments\n",
    "    data = college,  ## pandas dataframe\n",
    "    y = \"Grad.Rate\"  ## string ('header name')\n",
    ")"
   ]
  },
  {
   "cell_type": "markdown",
   "metadata": {
    "id": "NBKhYMx4OmKW"
   },
   "source": [
    "**Note:**\n",
    "\n",
    "In this example, the regions of interest within the response variable `y` are automatically determined by the box plot extremes. The values closer the median are considered \"majority\" values and are under-sampled.\n",
    "\n",
    "If there are no box plot extremes contained in the reponse variable `y`, the argument `rel_method = manual` must be specified, and an input matrix must be placed into the argument `rel_ctrl_pts_rg` indicating the regions of rarity in `y`.\n",
    "\n",
    "More information regarding the matrix input to the `rel_ctrl_pts_rg` argument and manual over-sampling can be found within the function's doc string, as well as in Nick Kunz's package SMOGN: https://github.com/nickkunz/smogn/blob/master/examples/smogn_example_3_adv.ipynb.\n",
    "\n",
    "It is also important to mention that by default, `ImbalancedLearningRegression.random_under` will first automatically remove columns containing missing values and then remove rows, as it cannot input data containing missing values. This feature can be changed with the boolean arguments `drop_na_col = False` and `drop_na_rows = False`."
   ]
  },
  {
   "cell_type": "markdown",
   "metadata": {
    "id": "JSYCW_1t-zra"
   },
   "source": [
    "## Results\n",
    "After conducting under-sample the majority class(es) by randomly picking samples with or without replacement, we briefly examine the results. \n",
    "\n",
    "We can see that the number of observations (rows) in the original training set decreased from 777 to 518, while the number of features (columns) remains the same. \n",
    "\n",
    "Recall that `ImbalancedLearningRegression.random_under` automatically removes features containing missing values. In this case, no features contained missing values.\n",
    "\n",
    "The reduction in observations were a result of under-sampling. More detailed information in this regard can be found in the original paper cited in the **References** section.\n",
    "\n",
    "\n"
   ]
  },
  {
   "cell_type": "code",
   "execution_count": null,
   "metadata": {
    "colab": {
     "base_uri": "https://localhost:8080/"
    },
    "id": "spqtcHX1yTfM",
    "outputId": "0a0901ec-95de-4d2d-c294-2423857eaca2"
   },
   "outputs": [
    {
     "data": {
      "text/plain": [
       "(777, 19)"
      ]
     },
     "execution_count": 8,
     "metadata": {},
     "output_type": "execute_result"
    }
   ],
   "source": [
    "## dimensions - original data \n",
    "college.shape"
   ]
  },
  {
   "cell_type": "code",
   "execution_count": null,
   "metadata": {
    "colab": {
     "base_uri": "https://localhost:8080/"
    },
    "id": "BJnFAM8VpTUZ",
    "outputId": "c8aa954b-344c-45c4-d503-715860ef0c76"
   },
   "outputs": [
    {
     "data": {
      "text/plain": [
       "(518, 19)"
      ]
     },
     "execution_count": 9,
     "metadata": {},
     "output_type": "execute_result"
    }
   ],
   "source": [
    "## dimensions - modified data\n",
    "college_ru.shape"
   ]
  },
  {
   "cell_type": "markdown",
   "metadata": {
    "id": "WgJWRm3AN-Vn"
   },
   "source": [
    "Further examining the results, we can see that the distribution of the response variable has changed. By calling the `box_plot_stats` function from this package (`ImbalancedLearningRegression.box_plot_stats`) we quickly verify.\n",
    "\n",
    "Notice that the modified training set's box plot five number summary has changed, where the distribution of the response variable has *extend to both sides* when compared to the original training set."
   ]
  },
  {
   "cell_type": "code",
   "execution_count": null,
   "metadata": {
    "colab": {
     "base_uri": "https://localhost:8080/"
    },
    "id": "6IjxkbBwspsN",
    "outputId": "4cdd3fe2-e76b-4b86-ddd8-169cc503369a"
   },
   "outputs": [
    {
     "data": {
      "text/plain": [
       "array([ 18.,  53.,  65.,  78., 100.])"
      ]
     },
     "execution_count": 10,
     "metadata": {},
     "output_type": "execute_result"
    }
   ],
   "source": [
    "## box plot stats - original data \n",
    "iblr.box_plot_stats(college['Grad.Rate'])['stats']"
   ]
  },
  {
   "cell_type": "code",
   "execution_count": null,
   "metadata": {
    "colab": {
     "base_uri": "https://localhost:8080/"
    },
    "id": "MCZtVBfU-CLM",
    "outputId": "bd750cca-bcb7-4db7-c759-2ddc2cbff0cb"
   },
   "outputs": [
    {
     "data": {
      "text/plain": [
       "array([ 15.,  54.,  67.,  83., 118.])"
      ]
     },
     "execution_count": 15,
     "metadata": {},
     "output_type": "execute_result"
    }
   ],
   "source": [
    "## box plot stats - modified data\n",
    "iblr.box_plot_stats(college_ru['Grad.Rate'])['stats']"
   ]
  },
  {
   "cell_type": "markdown",
   "metadata": {
    "id": "Nex80wz1-VKY"
   },
   "source": [
    "Plotting the results of both the original and modified training sets, the *skewed right* distribution of the response variable in the modified training set becomes more evident.\n",
    "\n",
    "In this example, random undersampling under-sampled observations whose `'Grad.Rate'` was found to be closer to the median (those considered \"majority\").\n",
    "\n",
    "This is the quickest implementation when the `y` values of interest in predicting may be unclear within a given dataset.\n",
    "\n"
   ]
  },
  {
   "cell_type": "code",
   "execution_count": null,
   "metadata": {
    "colab": {
     "base_uri": "https://localhost:8080/",
     "height": 279
    },
    "id": "mr_My8zHEM_9",
    "outputId": "66ec52bf-c626-4abc-e151-2dc108b78c43"
   },
   "outputs": [
    {
     "data": {
      "image/png": "[encoded data removed]",
      "text/plain": [
       "<Figure size 432x288 with 1 Axes>"
      ]
     },
     "metadata": {
      "needs_background": "light"
     },
     "output_type": "display_data"
    }
   ],
   "source": [
    "## plot y distribution \n",
    "college_ru.reset_index(inplace=True)\n",
    "\n",
    "seaborn.kdeplot(college['Grad.Rate'], label=\"Original\")\n",
    "seaborn.kdeplot(college_ru['Grad.Rate'], label=\"Modified\")\n",
    "plt.show()"
   ]
  },
  {
   "cell_type": "markdown",
   "metadata": {
    "id": "XA5_E-5oQF18"
   },
   "source": [
    "## Conclusion\n",
    "In this example, we covered the fundamentals of Random Undersampling. We utilized the College dataset to conduct under-sample the majority class(es) by randomly picking samples with or without replacement with the minimum required arguments. \n",
    "\n",
    "Random Undersampling under-sampled \"majority\" values in a continuous response variable. The results were briefly examined with the box plot's five number summary and plotted for visual confirmation.\n",
    "\n"
   ]
  },
  {
   "cell_type": "markdown",
   "metadata": {
    "id": "rAQ5iGDJa2LM"
   },
   "source": [
    "## References\n",
    "\n",
    "Branco, P., Torgo, L., Ribeiro, R. (2017). SMOGN: A Pre-Processing Approach for Imbalanced Regression. Proceedings of Machine Learning Research, 74:36-50. http://proceedings.mlr.press/v74/branco17a/branco17a.pdf.\n",
    "\n",
    "Gareth, J., Daniela, W., Trevor, H., & Robert, T. (2013). An introduction to statistical learning: with applications in R. Spinger.\n",
    "\n",
    "Kunz, N. (2019). SMOGN: Synthetic Minority Over-Sampling for Regression with Gaussian Noise (Version 0.1.0). Python Package Index. https://pypi.org/project/smogn.\n",
    "\n"
   ]
  },
  {
   "cell_type": "code",
   "execution_count": null,
   "metadata": {},
   "outputs": [],
   "source": []
  }
 ],
 "metadata": {
  "colab": {
   "collapsed_sections": [],
   "name": "Random_undersampling_example.ipynb",
   "provenance": []
  },
  "kernelspec": {
   "display_name": "Python 3",
   "language": "python",
   "name": "python3"
  },
  "language_info": {
   "codemirror_mode": {
    "name": "ipython",
    "version": 3
   },
   "file_extension": ".py",
   "mimetype": "text/x-python",
   "name": "python",
   "nbconvert_exporter": "python",
   "pygments_lexer": "ipython3",
   "version": "3.8.8"
  }
 },
 "nbformat": 4,
 "nbformat_minor": 1
}
