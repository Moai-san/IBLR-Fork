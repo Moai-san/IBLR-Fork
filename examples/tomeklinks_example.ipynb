{
 "cells": [
  {
   "cell_type": "markdown",
   "metadata": {
    "id": "IoG91SaLwtuq"
   },
   "source": [
    "# ImbalancedLearningRegression (0.0.0): Usage\n",
    "---\n",
    "## TomekLinks\n",
    "\n",
    "Gloria(Xinzi) Hu, 300011200, xhu005@uottawa.ca \\ Lingyi Kong, 300062668, lkong073@uottawa.ca \\ Adapted from Nick Kunz's SMOGN package: https://github.com/nickkunz/smogn/blob/master/examples/smogn_example_1_beg.ipynb"
   ]
  },
  {
   "cell_type": "markdown",
   "metadata": {
    "id": "YOSHCUHR--nw"
   },
   "source": [
    "## Installation\n",
    "\n",
    "First, we install ImbalancedLearningRegression from the Github repository. Alternatively, we could install from the official PyPI distribution. However, the developer version is utilized here for the latest release."
   ]
  },
  {
   "cell_type": "code",
   "execution_count": null,
   "metadata": {
    "colab": {
     "base_uri": "https://localhost:8080/"
    },
    "id": "u9SqBgJ8rduy",
    "outputId": "fad0a6b1-0832-4e96-96ec-0207e35f9c39"
   },
   "outputs": [
    {
     "name": "stdout",
     "output_type": "stream",
     "text": [
      "Collecting git+https://github.com/paobranco/ImbalancedLearningRegression.git\n",
      "  Cloning https://github.com/paobranco/ImbalancedLearningRegression.git to /tmp/pip-req-build-kka4qgm9\n",
      "  Running command git clone -q https://github.com/paobranco/ImbalancedLearningRegression.git /tmp/pip-req-build-kka4qgm9\n",
      "Requirement already satisfied: numpy in /usr/local/lib/python3.7/dist-packages (from ImbalancedLearningRegression==0.0.0) (1.21.5)\n",
      "Requirement already satisfied: pandas in /usr/local/lib/python3.7/dist-packages (from ImbalancedLearningRegression==0.0.0) (1.3.5)\n",
      "Requirement already satisfied: tqdm in /usr/local/lib/python3.7/dist-packages (from ImbalancedLearningRegression==0.0.0) (4.63.0)\n",
      "Requirement already satisfied: sklearn in /usr/local/lib/python3.7/dist-packages (from ImbalancedLearningRegression==0.0.0) (0.0)\n",
      "Requirement already satisfied: pytz>=2017.3 in /usr/local/lib/python3.7/dist-packages (from pandas->ImbalancedLearningRegression==0.0.0) (2018.9)\n",
      "Requirement already satisfied: python-dateutil>=2.7.3 in /usr/local/lib/python3.7/dist-packages (from pandas->ImbalancedLearningRegression==0.0.0) (2.8.2)\n",
      "Requirement already satisfied: six>=1.5 in /usr/local/lib/python3.7/dist-packages (from python-dateutil>=2.7.3->pandas->ImbalancedLearningRegression==0.0.0) (1.15.0)\n",
      "Requirement already satisfied: scikit-learn in /usr/local/lib/python3.7/dist-packages (from sklearn->ImbalancedLearningRegression==0.0.0) (1.0.2)\n",
      "Requirement already satisfied: scipy>=1.1.0 in /usr/local/lib/python3.7/dist-packages (from scikit-learn->sklearn->ImbalancedLearningRegression==0.0.0) (1.4.1)\n",
      "Requirement already satisfied: threadpoolctl>=2.0.0 in /usr/local/lib/python3.7/dist-packages (from scikit-learn->sklearn->ImbalancedLearningRegression==0.0.0) (3.1.0)\n",
      "Requirement already satisfied: joblib>=0.11 in /usr/local/lib/python3.7/dist-packages (from scikit-learn->sklearn->ImbalancedLearningRegression==0.0.0) (1.1.0)\n",
      "Building wheels for collected packages: ImbalancedLearningRegression\n",
      "  Building wheel for ImbalancedLearningRegression (setup.py) ... \u001b[?25l\u001b[?25hdone\n",
      "  Created wheel for ImbalancedLearningRegression: filename=ImbalancedLearningRegression-0.0.0-py3-none-any.whl size=117510 sha256=b3e2d73dc038819f377727462000385c81db40d3a128ce0f96c9f8dbe6470533\n",
      "  Stored in directory: /tmp/pip-ephem-wheel-cache-n6bo5y2c/wheels/89/80/c5/3b43c805c9eab7ff24db145fbb39077e4d23337f3f5d8e0173\n",
      "Successfully built ImbalancedLearningRegression\n",
      "Installing collected packages: ImbalancedLearningRegression\n",
      "Successfully installed ImbalancedLearningRegression-0.0.0\n"
     ]
    }
   ],
   "source": [
    "## suppress install output\n",
    "##%%capture\n",
    "\n",
    "## install pypi release\n",
    "#!pip install smote\n",
    "\n",
    "## install developer version\n",
    "!pip install git+https://github.com/paobranco/ImbalancedLearningRegression.git\n"
   ]
  },
  {
   "cell_type": "markdown",
   "metadata": {
    "id": "gKhs9eJd_Ab6"
   },
   "source": [
    "## Dependencies\n",
    "Next, we load the required dependencies. Here we import `tomeklinks` to later apply under-sampling by removing Tomek’s links for Regression. In addition, we use `pandas` for data handling,`matplotlib` and `seaborn` to visualize our results, and `ssl` to help read the dataframe from external resources."
   ]
  },
  {
   "cell_type": "code",
   "execution_count": null,
   "metadata": {
    "id": "fPB6tSLinAFS"
   },
   "outputs": [],
   "source": [
    "## load dependencies\n",
    "## load libraries\n",
    "import pandas as pd\n",
    "import seaborn\n",
    "import matplotlib.pyplot as plt\n",
    "import ImbalancedLearningRegression as iblr"
   ]
  },
  {
   "cell_type": "markdown",
   "metadata": {
    "id": "do8cJ25c_HcF"
   },
   "source": [
    "## Data\n",
    "Then we load our data. In this example, we use the College Data set, which can be found on the website for the main course textbook(\"An Introduction to Statistical Learning with Applications in R\") James et al. http://www-bcf.usc.edu/~gareth/ISL/data.html. It contains a number of variables for 777 different universities and colleges in the US. In this case, we name our training set `college`.\n"
   ]
  },
  {
   "cell_type": "code",
   "execution_count": null,
   "metadata": {
    "id": "RaFdQ2od-qVO"
   },
   "outputs": [],
   "source": [
    "college = pd.read_csv(\n",
    "    ## http://jse.amstat.org/v19n3/decock.pdf\n",
    "    'https://raw.githubusercontent.com/paobranco/ImbalancedLearningRegression/master/data/College.csv'\n",
    ")\n"
   ]
  },
  {
   "cell_type": "markdown",
   "metadata": {
    "id": "D71nm6Co_KK-"
   },
   "source": [
    "## Introduction to Undersampling Tomeklinks\n",
    "Here we cover the focus of this example. We call the `tomeklinks` function from this package (`ImbalancedLearningRegression.tomeklinks`) and satisfy the minimum required arguments: `data` and `y`.\n",
    "\n",
    "* The `data` argument takes a Pandas DataFrame, which contains the training set split. In this example, we input the previously loaded `college` training set with follow input: `data = college`\n",
    "\n",
    "* The `y` argument takes a string, which specifies a continuous reponse variable by header name. In this example, we input `'Grad.Rate'` in the interest of predicting the sale price of homes in Ames, Iowa with the following input: `y = 'Grad.Rate'`"
   ]
  },
  {
   "cell_type": "code",
   "execution_count": null,
   "metadata": {
    "colab": {
     "base_uri": "https://localhost:8080/"
    },
    "id": "9qRV9hjPjJVF",
    "outputId": "ebdcf9a1-160c-40fe-8404-612a3d55eaad"
   },
   "outputs": [
    {
     "name": "stderr",
     "output_type": "stream",
     "text": [
      "dist_matrix: 100%|##########| 777/777 [07:01<00:00,  1.84it/s]\n",
      "new_index: 100%|##########| 657/657 [00:00<00:00, 1690.07it/s]\n",
      "dist_matrix: 100%|##########| 777/777 [07:02<00:00,  1.84it/s]\n",
      "new_index: 100%|##########| 657/657 [00:00<00:00, 1710.11it/s]\n"
     ]
    }
   ],
   "source": [
    "## conduct smote\n",
    "college_tomek = iblr.tomeklinks(\n",
    "    ## main arguments\n",
    "    data = college,  ## pandas dataframe\n",
    "    y = \"Grad.Rate\",  ## string ('header name')\n",
    ")"
   ]
  },
  {
   "cell_type": "markdown",
   "metadata": {
    "id": "NBKhYMx4OmKW"
   },
   "source": [
    "**Note:**\n",
    "\n",
    "In this example, the regions of interest within the response variable `y` are automatically determined by the box plot extremes. The extreme values are considered rare \"minorty\" values are over-sampled. The values closer the median are considered \"majority\" values and are under-sampled.\n",
    "\n",
    "If there are no box plot extremes contained in the reponse variable `y`, the argument `rel_method = manual` must be specified, and an input matrix must be placed into the argument `rel_ctrl_pts_rg` indicating the regions of rarity in `y`.\n",
    "\n",
    "More information regarding the matrix input to the rel_ctrl_pts_rg argument and manual over-sampling can be found within the function's doc string, as well as in Nick Kunz's package SMOGN: https://github.com/nickkunz/smogn/blob/master/examples/smogn_example_3_adv.ipynb.\n",
    "\n",
    "It is also important to mention that by default, `ImbalancedLearningRegression.tomeklinks` will first automatically remove columns containing missing values and then remove rows, as it cannot input data containing missing values. This feature can be changed with the boolean arguments `drop_na_col = False` and `drop_na_rows = False`.\n",
    "\n",
    "In addition, there is an attribute that specific for the tomeklinks method which is `option`. It has 3 availble input value: `majority`, `minority`, and `both`. When `majority`, the method resample only the majority class; when `minority`, the method resample only the minority class; when `both`, the method resample both majority and minority classes."
   ]
  },
  {
   "cell_type": "markdown",
   "metadata": {
    "id": "JSYCW_1t-zra"
   },
   "source": [
    "## Results\n",
    "After conducting under-sample the majority class(es) by randomly picking samples with or without replacement, we briefly examine the results. \n",
    "\n",
    "We can see that the number of observations (rows) in the original training set decreased from 777 to 657, while the number of features (columns) did not change. \n",
    "\n",
    "Recall that `ImbalancedLearningRegression.random_under` automatically removes features containing missing values. In this case, no features contained missing values.\n",
    "\n",
    "The reduction in observations were a result of under-sampling. More detailed information in this regard can be found in the original paper cited in the **References** section.\n",
    "\n",
    "\n"
   ]
  },
  {
   "cell_type": "code",
   "execution_count": null,
   "metadata": {
    "colab": {
     "base_uri": "https://localhost:8080/"
    },
    "id": "spqtcHX1yTfM",
    "outputId": "a9578a00-b034-49f4-bd40-5501ce7e191b"
   },
   "outputs": [
    {
     "data": {
      "text/plain": [
       "(777, 19)"
      ]
     },
     "execution_count": 6,
     "metadata": {},
     "output_type": "execute_result"
    }
   ],
   "source": [
    "## dimensions - original data \n",
    "college.shape"
   ]
  },
  {
   "cell_type": "code",
   "execution_count": null,
   "metadata": {
    "colab": {
     "base_uri": "https://localhost:8080/"
    },
    "id": "BJnFAM8VpTUZ",
    "outputId": "1456ef09-83af-43c4-e6b6-c3086b8eedb0"
   },
   "outputs": [
    {
     "data": {
      "text/plain": [
       "(657, 19)"
      ]
     },
     "execution_count": 7,
     "metadata": {},
     "output_type": "execute_result"
    }
   ],
   "source": [
    "## dimensions - modified data\n",
    "college_tomek.shape"
   ]
  },
  {
   "cell_type": "markdown",
   "metadata": {
    "id": "WgJWRm3AN-Vn"
   },
   "source": [
    "Further examining the results, we can see that the distribution of the response variable has changed. By calling the `box_plot_stats` function from this package (`ImbalancedLearningRegression.box_plot_stats`) we quickly verify.\n",
    "\n",
    "Notice that the modified training set's box plot five number summary has not changed."
   ]
  },
  {
   "cell_type": "code",
   "execution_count": null,
   "metadata": {
    "colab": {
     "base_uri": "https://localhost:8080/"
    },
    "id": "6IjxkbBwspsN",
    "outputId": "01fe4bd3-f455-43f0-a2d3-9914b1e3f390"
   },
   "outputs": [
    {
     "data": {
      "text/plain": [
       "array([ 18.,  53.,  65.,  78., 100.])"
      ]
     },
     "execution_count": 8,
     "metadata": {},
     "output_type": "execute_result"
    }
   ],
   "source": [
    "## box plot stats - original data \n",
    "iblr.box_plot_stats(college['Grad.Rate'])['stats']"
   ]
  },
  {
   "cell_type": "code",
   "execution_count": null,
   "metadata": {
    "colab": {
     "base_uri": "https://localhost:8080/"
    },
    "id": "MCZtVBfU-CLM",
    "outputId": "1c05975f-fbb4-4526-a918-ab80b98605b5"
   },
   "outputs": [
    {
     "data": {
      "text/plain": [
       "array([ 18.,  53.,  66.,  78., 100.])"
      ]
     },
     "execution_count": 9,
     "metadata": {},
     "output_type": "execute_result"
    }
   ],
   "source": [
    "## box plot stats - modified data\n",
    "iblr.box_plot_stats(college_tomek['Grad.Rate'])['stats']"
   ]
  },
  {
   "cell_type": "markdown",
   "metadata": {
    "id": "Nex80wz1-VKY"
   },
   "source": [
    "Plotting the results of both the original and modified training sets, the difference is small. We guess that it is because the number of the observations is not enough and there are only a few tomeklinks appear in the training set. Therefore, the number of removed observations are too small to make the plot produce significant change.\n",
    "\n",
    "In this example, Tomeklinks under-sampled observations whose `'Grad.Rate'` was found to be a little closer to the median (those considered \"majority\").\n",
    "\n",
    "This is the quickest implementation when the `y` values of interest in predicting may be unclear within a given dataset.\n",
    "\n"
   ]
  },
  {
   "cell_type": "code",
   "execution_count": null,
   "metadata": {
    "colab": {
     "base_uri": "https://localhost:8080/",
     "height": 279
    },
    "id": "mr_My8zHEM_9",
    "outputId": "e96d2f3c-3eb0-4034-f828-f8b2b6cacfd2"
   },
   "outputs": [
    {
     "data": {
      "image/png": "[encoded data removed]",
      "text/plain": [
       "<Figure size 432x288 with 1 Axes>"
      ]
     },
     "metadata": {
      "needs_background": "light"
     },
     "output_type": "display_data"
    }
   ],
   "source": [
    "## plot y distribution \n",
    "college_tomek.reset_index(inplace=True)\n",
    "\n",
    "seaborn.kdeplot(college['Grad.Rate'], label=\"Original\")\n",
    "seaborn.kdeplot(college_tomek['Grad.Rate'], label=\"Modified\")\n",
    "plt.show()"
   ]
  },
  {
   "cell_type": "markdown",
   "metadata": {
    "id": "XA5_E-5oQF18"
   },
   "source": [
    "## Conclusion\n",
    "In this example, we covered the fundamentals of Tomeklinks. We utilized the College dataset to conduct under-sampling by removing Tomek’s links for Regression with the minimum required arguments. \n",
    "\n",
    "Tomeklinks over-sampled \"minority\" values and under-sampled \"majority\" values in a continuous response variable. The results were briefly examined with the box plot's five number summary and plotted for visual confirmation.\n",
    "\n",
    "\n"
   ]
  },
  {
   "cell_type": "markdown",
   "metadata": {
    "id": "rAQ5iGDJa2LM"
   },
   "source": [
    "## References\n",
    "\n",
    "Branco, P., Torgo, L., Ribeiro, R. (2017). SMOGN: A Pre-Processing Approach for Imbalanced Regression. Proceedings of Machine Learning Research, 74:36-50. http://proceedings.mlr.press/v74/branco17a/branco17a.pdf.\n",
    "\n",
    "Gareth, J., Daniela, W., Trevor, H., & Robert, T. (2013). An introduction to statistical learning: with applications in R. Spinger.\n",
    "\n",
    "Ai-jun, L., & Peng, Z. (2020, June). Research on Unbalanced Data Processing Algorithm Base Tomeklinks-Smote. In Proceedings of the 2020 3rd International Conference on Artificial Intelligence and Pattern Recognition (pp. 13-17).\n",
    "\n",
    "Kunz, N. (2019). SMOGN: Synthetic Minority Over-Sampling for Regression with Gaussian Noise (Version 0.1.0). Python Package Index. https://pypi.org/project/smogn."
   ]
  },
  {
   "cell_type": "code",
   "execution_count": null,
   "metadata": {},
   "outputs": [],
   "source": []
  }
 ],
 "metadata": {
  "colab": {
   "collapsed_sections": [],
   "name": "tomeklinks_example.ipynb",
   "provenance": []
  },
  "kernelspec": {
   "display_name": "Python 3",
   "language": "python",
   "name": "python3"
  },
  "language_info": {
   "codemirror_mode": {
    "name": "ipython",
    "version": 3
   },
   "file_extension": ".py",
   "mimetype": "text/x-python",
   "name": "python",
   "nbconvert_exporter": "python",
   "pygments_lexer": "ipython3",
   "version": "3.8.8"
  }
 },
 "nbformat": 4,
 "nbformat_minor": 1
}
